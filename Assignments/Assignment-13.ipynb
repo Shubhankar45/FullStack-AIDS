{
 "cells": [
  {
   "cell_type": "markdown",
   "id": "2fee3046-bd9e-4247-b0dd-c34ad338f2a4",
   "metadata": {},
   "source": [
    "**Assignment 13**"
   ]
  },
  {
   "cell_type": "markdown",
   "id": "76c7c0cd-42a8-4470-b7a2-6fdcb9810dc8",
   "metadata": {},
   "source": [
    "- **isalnum:** Returns `True` if all characters in the string are alphanumeric (letters or digits) and the string is not empty.  \n",
    "- **isalpha:** Returns `True` if all characters in the string are alphabetic (letters only) and the string is not empty.  \n",
    "- **isascii:** Returns `True` if all characters in the string are ASCII (Unicode code point < 128), or the string is empty.  \n",
    "- **isdecimal:** Returns `True` if all characters in the string are decimal characters (0–9 only).  \n",
    "- **isdigit:** Returns `True` if all characters in the string are digits, including superscripts and other digit-related Unicode characters.  \n",
    "- **isidentifier:** Returns `True` if the string is a valid Python identifier (can be used as a variable name).  \n",
    "- **islower:** Returns `True` if all cased characters in the string are lowercase and there is at least one cased character.  \n",
    "- **isnumeric:** Returns `True` if all characters in the string are numeric (digits, fractions, Unicode numerics, etc.).  \n",
    "- **isprintable:** Returns `True` if all characters in the string are printable (including space), or the string is empty.  \n",
    "- **isspace:** Returns `True` if all characters in the string are whitespace characters and the string is not empty.  \n",
    "- **istitle:** Returns `True` if the string is in title case (each word starts with an uppercase letter followed by lowercase letters).  \n",
    "- **isupper:** Returns `True` if all cased characters in the string are uppercase and there is at least one cased character.  \n"
   ]
  },
  {
   "cell_type": "markdown",
   "id": "3e8ed680-4e15-46fe-9e6a-b7d3a2a921c5",
   "metadata": {},
   "source": [
    "**isalnum()**"
   ]
  },
  {
   "cell_type": "code",
   "execution_count": 26,
   "id": "6993874a-c2fb-4cbf-a471-4208d66b574a",
   "metadata": {},
   "outputs": [
    {
     "name": "stdout",
     "output_type": "stream",
     "text": [
      "True\n",
      "False\n"
     ]
    }
   ],
   "source": [
    "str1=\"123abc\"\n",
    "str2=\"5.9\"\n",
    "print(str1.isalnum())\n",
    "print(str2.isalnum())\n"
   ]
  },
  {
   "cell_type": "markdown",
   "id": "1d371447-b424-4471-969f-d1ebfd6241d6",
   "metadata": {},
   "source": [
    "**isalpha()**"
   ]
  },
  {
   "cell_type": "code",
   "execution_count": 27,
   "id": "56f4386d-7528-4f49-ba92-15a3dac63a00",
   "metadata": {},
   "outputs": [
    {
     "name": "stdout",
     "output_type": "stream",
     "text": [
      "True\n",
      "False\n"
     ]
    }
   ],
   "source": [
    "str1=\"virat\"\n",
    "str2=\"18\"\n",
    "print(str1.isalpha())\n",
    "print(str2.isalpha())"
   ]
  },
  {
   "cell_type": "markdown",
   "id": "8d2324fa-5edc-4dc7-ba79-95281c40f061",
   "metadata": {},
   "source": [
    "**isascii()**"
   ]
  },
  {
   "cell_type": "code",
   "execution_count": 28,
   "id": "27f20497-6638-4b63-93b8-669972c5253c",
   "metadata": {},
   "outputs": [
    {
     "name": "stdout",
     "output_type": "stream",
     "text": [
      "True\n",
      "True\n"
     ]
    }
   ],
   "source": [
    "str1=\"65\"\n",
    "str2=\"A\"\n",
    "print(str1.isascii())\n",
    "print(str2.isascii())"
   ]
  },
  {
   "cell_type": "markdown",
   "id": "c3cbe20a-c984-419e-9730-5201fbf216cb",
   "metadata": {},
   "source": [
    "**isdecimal()**"
   ]
  },
  {
   "cell_type": "code",
   "execution_count": 29,
   "id": "d0306907-1788-43a1-bc5d-da38f056fadc",
   "metadata": {},
   "outputs": [
    {
     "name": "stdout",
     "output_type": "stream",
     "text": [
      "False\n",
      "True\n"
     ]
    }
   ],
   "source": [
    "str1=\"6.5\"\n",
    "str2=\"65\"\n",
    "print(str1.isdecimal())\n",
    "print(str2.isdecimal())"
   ]
  },
  {
   "cell_type": "markdown",
   "id": "a38f09ce-9c7e-446b-a70a-7b3a7529834c",
   "metadata": {},
   "source": [
    "**isdigit()**"
   ]
  },
  {
   "cell_type": "code",
   "execution_count": 30,
   "id": "8ab8df71-734d-482c-a507-b94eeeab6985",
   "metadata": {},
   "outputs": [
    {
     "name": "stdout",
     "output_type": "stream",
     "text": [
      "True\n",
      "False\n"
     ]
    }
   ],
   "source": [
    "str1=\"18\"\n",
    "str2=\"virat\"\n",
    "print(str1.isdigit())\n",
    "print(str2.isdigit())"
   ]
  },
  {
   "cell_type": "markdown",
   "id": "fdf229cf-a3eb-4739-816e-dffe5535c8de",
   "metadata": {},
   "source": [
    "**isidentifier()**"
   ]
  },
  {
   "cell_type": "code",
   "execution_count": 31,
   "id": "576d4c4f-26b1-47f3-8e4f-b1ed8d34503e",
   "metadata": {},
   "outputs": [
    {
     "name": "stdout",
     "output_type": "stream",
     "text": [
      "True\n",
      "False\n"
     ]
    }
   ],
   "source": [
    "str1=\"abc\"\n",
    "str2=\"123abc\"\n",
    "print(str1.isidentifier())\n",
    "print(str2.isidentifier())"
   ]
  },
  {
   "cell_type": "markdown",
   "id": "5ee828e0-9865-49a1-97bb-9996d97fe81c",
   "metadata": {},
   "source": [
    "**islower()**"
   ]
  },
  {
   "cell_type": "code",
   "execution_count": 32,
   "id": "d8103e8b-059c-45f5-a273-1d5f1101fb69",
   "metadata": {},
   "outputs": [
    {
     "name": "stdout",
     "output_type": "stream",
     "text": [
      "True\n",
      "False\n"
     ]
    }
   ],
   "source": [
    "str1=\"abc\"\n",
    "str2=\"Abc\"\n",
    "print(str1.islower())\n",
    "print(str2.islower())"
   ]
  },
  {
   "cell_type": "markdown",
   "id": "4cb9a34c-e960-42d0-8c35-ab5416b909d7",
   "metadata": {},
   "source": [
    "**isnumeric()**"
   ]
  },
  {
   "cell_type": "code",
   "execution_count": 33,
   "id": "42366fca-b444-4fa5-b031-bed685d32cf5",
   "metadata": {},
   "outputs": [
    {
     "name": "stdout",
     "output_type": "stream",
     "text": [
      "True\n",
      "False\n"
     ]
    }
   ],
   "source": [
    "str1=\"123\"\n",
    "str2=\"3AC\"\n",
    "print(str1.isnumeric())\n",
    "print(str2.isnumeric())"
   ]
  },
  {
   "cell_type": "markdown",
   "id": "4b0d3053-6c41-42bf-85d5-2b58dff579fa",
   "metadata": {},
   "source": [
    "**isprintable()**"
   ]
  },
  {
   "cell_type": "code",
   "execution_count": 34,
   "id": "e64a2fa9-9b3a-4ecd-a779-4edf22a917d8",
   "metadata": {},
   "outputs": [
    {
     "name": "stdout",
     "output_type": "stream",
     "text": [
      "True\n",
      "False\n"
     ]
    }
   ],
   "source": [
    "str1=\"123\"\n",
    "str2=\"\\n\"\n",
    "print(str1.isprintable())\n",
    "print(str2.isprintable())"
   ]
  },
  {
   "cell_type": "markdown",
   "id": "e7bae32a-e5be-4ba4-afc6-92e290a47a4d",
   "metadata": {},
   "source": [
    "**isspace()**"
   ]
  },
  {
   "cell_type": "code",
   "execution_count": 35,
   "id": "b9a91707-7f3c-41c3-9f2a-3d91c589aa46",
   "metadata": {},
   "outputs": [
    {
     "name": "stdout",
     "output_type": "stream",
     "text": [
      "False\n",
      "True\n"
     ]
    }
   ],
   "source": [
    "str1=\"123\"\n",
    "str2=\" \"\n",
    "print(str1.isspace())\n",
    "print(str2.isspace())"
   ]
  },
  {
   "cell_type": "markdown",
   "id": "bab644e3-4769-4e42-997a-4e1f42e9192a",
   "metadata": {},
   "source": [
    "**istitle()**"
   ]
  },
  {
   "cell_type": "code",
   "execution_count": 36,
   "id": "566a5923-ae4c-4170-9606-0000926a9f2c",
   "metadata": {},
   "outputs": [
    {
     "name": "stdout",
     "output_type": "stream",
     "text": [
      "True\n",
      "False\n"
     ]
    }
   ],
   "source": [
    "str1=\"Virat\"\n",
    "str2=\"virat\"\n",
    "print(str1.istitle())\n",
    "print(str2.istitle())"
   ]
  },
  {
   "cell_type": "markdown",
   "id": "fcecfeb7-5a2b-40c4-885a-f093520c3636",
   "metadata": {},
   "source": [
    "**isupper()**"
   ]
  },
  {
   "cell_type": "code",
   "execution_count": 37,
   "id": "ec9d41ae-2c57-4c96-adba-72d6e3d7a7a4",
   "metadata": {},
   "outputs": [
    {
     "name": "stdout",
     "output_type": "stream",
     "text": [
      "True\n",
      "False\n"
     ]
    }
   ],
   "source": [
    "str1=\"VIRAT\"\n",
    "str2=\"virat\"\n",
    "print(str1.isupper())\n",
    "print(str2.isupper())"
   ]
  }
 ],
 "metadata": {
  "kernelspec": {
   "display_name": "Python [conda env:base] *",
   "language": "python",
   "name": "conda-base-py"
  },
  "language_info": {
   "codemirror_mode": {
    "name": "ipython",
    "version": 3
   },
   "file_extension": ".py",
   "mimetype": "text/x-python",
   "name": "python",
   "nbconvert_exporter": "python",
   "pygments_lexer": "ipython3",
   "version": "3.13.5"
  }
 },
 "nbformat": 4,
 "nbformat_minor": 5
}
