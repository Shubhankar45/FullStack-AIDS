{
 "cells": [
  {
   "cell_type": "markdown",
   "id": "b71d8c9f-5f54-4528-859e-54af4175f635",
   "metadata": {},
   "source": [
    "**Assignment_10**"
   ]
  },
  {
   "cell_type": "markdown",
   "id": "5531bdd8-0fc6-4125-893c-821f46590613",
   "metadata": {},
   "source": [
    "Q1) wap ask the user take a number print square of the number ask the repeat the task 3 times."
   ]
  },
  {
   "cell_type": "code",
   "execution_count": 5,
   "id": "4ee2150b-94e5-4523-826d-bd05c979b5d6",
   "metadata": {
    "tags": []
   },
   "outputs": [
    {
     "name": "stdin",
     "output_type": "stream",
     "text": [
      "entr number 4\n"
     ]
    },
    {
     "name": "stdout",
     "output_type": "stream",
     "text": [
      "Square of 4 is : 16\n"
     ]
    },
    {
     "name": "stdin",
     "output_type": "stream",
     "text": [
      "entr number 6\n"
     ]
    },
    {
     "name": "stdout",
     "output_type": "stream",
     "text": [
      "Square of 6 is : 36\n"
     ]
    },
    {
     "name": "stdin",
     "output_type": "stream",
     "text": [
      "entr number 3\n"
     ]
    },
    {
     "name": "stdout",
     "output_type": "stream",
     "text": [
      "Square of 3 is : 9\n"
     ]
    }
   ],
   "source": [
    "n=3\n",
    "while n>0:\n",
    "    a=int(input(\"entr number\"))\n",
    "    print(\"Square of\",a,\"is :\",a*a)\n",
    "    n=n-1\n",
    "    "
   ]
  },
  {
   "cell_type": "markdown",
   "id": "c0a331eb-c189-4d4c-bf8d-31cce8ed20af",
   "metadata": {},
   "source": [
    "Q2) wap 7th table"
   ]
  },
  {
   "cell_type": "code",
   "execution_count": 3,
   "id": "e8e77eb1-9c68-477b-8537-d584f11ce683",
   "metadata": {
    "tags": []
   },
   "outputs": [
    {
     "name": "stdout",
     "output_type": "stream",
     "text": [
      "7*1 = 7\n",
      "7*2 = 14\n",
      "7*3 = 21\n",
      "7*4 = 28\n",
      "7*5 = 35\n",
      "7*6 = 42\n",
      "7*7 = 49\n",
      "7*8 = 56\n",
      "7*9 = 63\n",
      "7*10 = 70\n"
     ]
    }
   ],
   "source": [
    "n=1\n",
    "while n<11:\n",
    "    print(f\"7*{n} = {7*n}\")\n",
    "    n=n+1"
   ]
  },
  {
   "cell_type": "markdown",
   "id": "71aec03b-fcbd-4591-97a9-c2d0319ba91e",
   "metadata": {},
   "source": [
    "Q3) ask the user enter a number print even or odd repeat the task 5 times"
   ]
  },
  {
   "cell_type": "code",
   "execution_count": 5,
   "id": "7567122b-9dea-41dc-8ddb-58550fff531e",
   "metadata": {
    "tags": []
   },
   "outputs": [
    {
     "name": "stdin",
     "output_type": "stream",
     "text": [
      "Enter Number 23\n"
     ]
    },
    {
     "name": "stdout",
     "output_type": "stream",
     "text": [
      "23 is odd\n"
     ]
    },
    {
     "name": "stdin",
     "output_type": "stream",
     "text": [
      "Enter Number 34\n"
     ]
    },
    {
     "name": "stdout",
     "output_type": "stream",
     "text": [
      "34 is even\n"
     ]
    },
    {
     "name": "stdin",
     "output_type": "stream",
     "text": [
      "Enter Number 23\n"
     ]
    },
    {
     "name": "stdout",
     "output_type": "stream",
     "text": [
      "23 is odd\n"
     ]
    },
    {
     "name": "stdin",
     "output_type": "stream",
     "text": [
      "Enter Number 65\n"
     ]
    },
    {
     "name": "stdout",
     "output_type": "stream",
     "text": [
      "65 is odd\n"
     ]
    },
    {
     "name": "stdin",
     "output_type": "stream",
     "text": [
      "Enter Number 45\n"
     ]
    },
    {
     "name": "stdout",
     "output_type": "stream",
     "text": [
      "45 is odd\n"
     ]
    }
   ],
   "source": [
    "n=5\n",
    "while n>0:\n",
    "    a=int(input(\"Enter Number\"))\n",
    "    b=a%2\n",
    "    if b==0:\n",
    "        print(f\"{a} is even\")\n",
    "    else:\n",
    "        print(f\"{a} is odd\")\n",
    "    n=n-1\n",
    "    "
   ]
  },
  {
   "cell_type": "markdown",
   "id": "4e9b72d7-16ac-4515-9ee8-12ec2b33cbcc",
   "metadata": {},
   "source": [
    "Q4) ask the user get a random number between 1 to 100 print even or odd\n",
    "   repeat the task 5 times"
   ]
  },
  {
   "cell_type": "code",
   "execution_count": 6,
   "id": "fd04bb77-f880-4715-8015-d374ab936fdb",
   "metadata": {
    "tags": []
   },
   "outputs": [
    {
     "name": "stdin",
     "output_type": "stream",
     "text": [
      "Enter number betwen 1 to 100 23\n"
     ]
    },
    {
     "name": "stdout",
     "output_type": "stream",
     "text": [
      "23 is odd\n"
     ]
    },
    {
     "name": "stdin",
     "output_type": "stream",
     "text": [
      "Enter number betwen 1 to 100 34\n"
     ]
    },
    {
     "name": "stdout",
     "output_type": "stream",
     "text": [
      "34 is even\n"
     ]
    },
    {
     "name": "stdin",
     "output_type": "stream",
     "text": [
      "Enter number betwen 1 to 100 45\n"
     ]
    },
    {
     "name": "stdout",
     "output_type": "stream",
     "text": [
      "45 is odd\n"
     ]
    },
    {
     "name": "stdin",
     "output_type": "stream",
     "text": [
      "Enter number betwen 1 to 100 23\n"
     ]
    },
    {
     "name": "stdout",
     "output_type": "stream",
     "text": [
      "23 is odd\n"
     ]
    },
    {
     "name": "stdin",
     "output_type": "stream",
     "text": [
      "Enter number betwen 1 to 100 123\n"
     ]
    },
    {
     "name": "stdout",
     "output_type": "stream",
     "text": [
      "enter valid number\n"
     ]
    }
   ],
   "source": [
    "n=5\n",
    "#num=int(input(\"Enter number betwen 1 to 100\"))\n",
    "while n>0:\n",
    "    a=int(input(\"Enter number betwen 1 to 100\"))\n",
    "    if a<0 or a>100:\n",
    "        print(\"enter valid number\")\n",
    "    else:\n",
    "        b=a%2\n",
    "        if b==0:\n",
    "         print(f\"{a} is even\")\n",
    "        else:\n",
    "         print(f\"{a} is odd\")\n",
    "    n=n-1\n",
    "    "
   ]
  },
  {
   "cell_type": "markdown",
   "id": "4fde467d-2eeb-4ea1-beb9-9876f21eb08c",
   "metadata": {},
   "source": [
    "Q5) WAP ask the user find the divisiors of 75"
   ]
  },
  {
   "cell_type": "code",
   "execution_count": 7,
   "id": "1f77e6fb-c41c-432a-bb83-f9b3b88e310c",
   "metadata": {
    "tags": []
   },
   "outputs": [
    {
     "name": "stdout",
     "output_type": "stream",
     "text": [
      "1\n",
      "3\n",
      "5\n",
      "15\n",
      "25\n",
      "75\n"
     ]
    }
   ],
   "source": [
    "n=1\n",
    "while n<76:\n",
    "    ans=75%n\n",
    "    if ans==0:\n",
    "        print(n)\n",
    "    n=n+1\n",
    "        "
   ]
  },
  {
   "cell_type": "markdown",
   "id": "b94aa906-07ef-4acd-a78c-9c0d79af653b",
   "metadata": {},
   "source": [
    "Q6) wap ask the user enter a number\n",
    "     ask the user get a random number\n",
    "    if both are equal print won\n",
    "    otherwise print lost\n",
    "    give 3 chances to the user (for)"
   ]
  },
  {
   "cell_type": "code",
   "execution_count": 11,
   "id": "21fb4898-f0b5-4218-a391-9af2ec1cf90a",
   "metadata": {
    "tags": []
   },
   "outputs": [
    {
     "name": "stdin",
     "output_type": "stream",
     "text": [
      "enter numer betwin 1 to 10 7\n"
     ]
    },
    {
     "name": "stdout",
     "output_type": "stream",
     "text": [
      "won\n"
     ]
    },
    {
     "name": "stdin",
     "output_type": "stream",
     "text": [
      "enter numer betwin 1 to 10 5\n"
     ]
    },
    {
     "name": "stdout",
     "output_type": "stream",
     "text": [
      "lost\n"
     ]
    },
    {
     "name": "stdin",
     "output_type": "stream",
     "text": [
      "enter numer betwin 1 to 10 3\n"
     ]
    },
    {
     "name": "stdout",
     "output_type": "stream",
     "text": [
      "lost\n"
     ]
    }
   ],
   "source": [
    "import random\n",
    "c=3\n",
    "while c>0:\n",
    "    u=int(input(\"enter numer betwin 1 to 10\"))\n",
    "    m=random.randint(1,10)\n",
    "    if u==m:\n",
    "        print(\"won\")\n",
    "    else:\n",
    "        print(\"lost\")\n",
    "    c=c-1"
   ]
  },
  {
   "cell_type": "markdown",
   "id": "71363597-bf48-456e-986e-5bb147f01d05",
   "metadata": {},
   "source": [
    "Q7) Imagine that your develop internet\n",
    "\n",
    "\n",
    "Case-1: when ever the correct pwd : code should stop\n",
    "\n",
    " Case-2: whenever you are enter the wrong\n",
    " \n",
    "           wrong pwd\n",
    "           \n",
    "           still have 2 chances\n",
    "           \n",
    "           still have 1 cahnces\n",
    "           \n",
    "          \n",
    " Case-3: whenerver all the chances\n",
    " \n",
    "          try afer 24hours print"
   ]
  },
  {
   "cell_type": "code",
   "execution_count": 1,
   "id": "2e060bdb-d1ab-44f0-9fec-1e1e0dae108b",
   "metadata": {
    "tags": []
   },
   "outputs": [
    {
     "name": "stdin",
     "output_type": "stream",
     "text": [
      "Enter password : gf\n"
     ]
    },
    {
     "name": "stdout",
     "output_type": "stream",
     "text": [
      "wrong pwd\n",
      "still have 2 chances\n"
     ]
    },
    {
     "name": "stdin",
     "output_type": "stream",
     "text": [
      "Enter password : xc\n"
     ]
    },
    {
     "name": "stdout",
     "output_type": "stream",
     "text": [
      "wrong pwd\n",
      "still have 1 chances\n"
     ]
    },
    {
     "name": "stdin",
     "output_type": "stream",
     "text": [
      "Enter password : xcg\n"
     ]
    },
    {
     "name": "stdout",
     "output_type": "stream",
     "text": [
      "wrong pwd\n",
      "still have 0 chances\n",
      "try afer 24hours print\n"
     ]
    }
   ],
   "source": [
    "n=0\n",
    "c=3\n",
    "pas=\"1234\"\n",
    "while n<3:\n",
    "    p=input(\"Enter password :\")\n",
    "    if p==pas:\n",
    "        brack\n",
    "    else:\n",
    "        print(\"wrong pwd\")\n",
    "        print(f\"still have {c-n-1} chances\")\n",
    "    n=n+1\n",
    "while n>2 and n<4:\n",
    "    print(\"try afer 24hours print\")\n",
    "    n=n+1\n",
    "        "
   ]
  },
  {
   "cell_type": "markdown",
   "id": "fef10a2f-18a9-4487-9f15-bebd95faf109",
   "metadata": {},
   "source": [
    "Q8) Wap ask the user get the sum of first 10 natural number"
   ]
  },
  {
   "cell_type": "code",
   "execution_count": 12,
   "id": "922adf9c-c764-4e9a-8222-cdc566b7db2b",
   "metadata": {
    "tags": []
   },
   "outputs": [
    {
     "name": "stdout",
     "output_type": "stream",
     "text": [
      "55\n"
     ]
    }
   ],
   "source": [
    "n=1\n",
    "sum=0\n",
    "while n<11:\n",
    "    sum=sum+n\n",
    "    n=n+1\n",
    "print(sum)\n"
   ]
  },
  {
   "cell_type": "markdown",
   "id": "b1a48fd6-398f-4b92-aa39-efc909da20d5",
   "metadata": {},
   "source": [
    "Q9) Wap ask the user get the sum of divsiors of 75"
   ]
  },
  {
   "cell_type": "code",
   "execution_count": 14,
   "id": "af09c9b6-9ff4-4bc4-a47d-aa72d56e89e9",
   "metadata": {
    "tags": []
   },
   "outputs": [
    {
     "data": {
      "text/plain": [
       "124"
      ]
     },
     "execution_count": 14,
     "metadata": {},
     "output_type": "execute_result"
    }
   ],
   "source": [
    "n=1\n",
    "sum=0\n",
    "while n<76:\n",
    "    ans=75%n\n",
    "    if ans==0:\n",
    "        sum=sum+n\n",
    "    n=n+1\n",
    "sum"
   ]
  },
  {
   "cell_type": "markdown",
   "id": "8f78d189-5d01-4c1b-945f-170ed14f55a3",
   "metadata": {},
   "source": [
    "Q10) Wap ask the user get a random number between 1 to 100\n",
    "\n",
    "find  even or odd\n",
    "\n",
    "get the sum of even and sum of odd\n",
    "\n",
    "Get 5 random number (for 5 times)\n",
    "\n",
    "even_summ=0\n",
    "\n",
    "odd_summ=0\n"
   ]
  },
  {
   "cell_type": "code",
   "execution_count": 15,
   "id": "0a4e7dfd-f9b7-4b4e-a624-766cff848deb",
   "metadata": {
    "tags": []
   },
   "outputs": [
    {
     "name": "stdin",
     "output_type": "stream",
     "text": [
      "Enter number betwen 1 to 100 : 23\n",
      "Enter number betwen 1 to 100 : 34\n",
      "Enter number betwen 1 to 100 : 25\n",
      "Enter number betwen 1 to 100 : 63\n",
      "Enter number betwen 1 to 100 : 24\n"
     ]
    },
    {
     "name": "stdout",
     "output_type": "stream",
     "text": [
      "Even sum is: 58\n",
      "Odd sum is : 111\n"
     ]
    }
   ],
   "source": [
    "n=5\n",
    "es=0\n",
    "os=0\n",
    "while n>0:\n",
    "    num=int(input(\"Enter number betwen 1 to 100 :\"))\n",
    "    if num%2==0:\n",
    "        es=es+num\n",
    "    else:\n",
    "        os=os+num\n",
    "    n=n-1\n",
    "print(\"Even sum is:\",es)\n",
    "print(\"Odd sum is :\" ,os)"
   ]
  },
  {
   "cell_type": "markdown",
   "id": "e9558904-739e-4d94-a49e-fae52ee73565",
   "metadata": {},
   "source": [
    "Q11)Wap ask the user get the find the number of divsiors of 75"
   ]
  },
  {
   "cell_type": "code",
   "execution_count": 20,
   "id": "4c498cbf-d1eb-4664-b1fc-ddcc6684b427",
   "metadata": {
    "tags": []
   },
   "outputs": [
    {
     "name": "stdout",
     "output_type": "stream",
     "text": [
      "number of divsiors of 75 :  6\n"
     ]
    }
   ],
   "source": [
    "n=1\n",
    "sum=0\n",
    "while n<76:\n",
    "    ans=75%n\n",
    "    if ans==0:\n",
    "        sum=sum+1\n",
    "    n=n+1\n",
    "print(\"number of divsiors of 75 : \",sum)"
   ]
  },
  {
   "cell_type": "code",
   "execution_count": null,
   "id": "2427d093-28ce-4089-81d8-6faf28eb36a9",
   "metadata": {},
   "outputs": [],
   "source": []
  }
 ],
 "metadata": {
  "kernelspec": {
   "display_name": "Python 3 (ipykernel)",
   "language": "python",
   "name": "python3"
  },
  "language_info": {
   "codemirror_mode": {
    "name": "ipython",
    "version": 3
   },
   "file_extension": ".py",
   "mimetype": "text/x-python",
   "name": "python",
   "nbconvert_exporter": "python",
   "pygments_lexer": "ipython3",
   "version": "3.11.5"
  }
 },
 "nbformat": 4,
 "nbformat_minor": 5
}
