{
 "cells": [
  {
   "cell_type": "markdown",
   "id": "a13646e5-5f26-4d80-bac4-9349b2069728",
   "metadata": {},
   "source": [
    "**Assignment 8**"
   ]
  },
  {
   "cell_type": "markdown",
   "id": "127d72d2-3410-4c5f-924d-f9a6f3073c21",
   "metadata": {},
   "source": [
    "**Write a function `sum_three(a, b, c)` that returns the sum of the three numbers.**"
   ]
  },
  {
   "cell_type": "code",
   "execution_count": 2,
   "id": "c1b717ed-0096-4a96-b55a-7de6670c19bb",
   "metadata": {},
   "outputs": [
    {
     "data": {
      "text/plain": [
       "9"
      ]
     },
     "execution_count": 2,
     "metadata": {},
     "output_type": "execute_result"
    }
   ],
   "source": [
    "def three_sum(a,b,c):\n",
    "    return a+b+c\n",
    "three_sum(2,3,4)"
   ]
  },
  {
   "cell_type": "code",
   "execution_count": 1,
   "id": "45f7b56b-cd1d-46ff-a850-1cc7dba0e80d",
   "metadata": {},
   "outputs": [
    {
     "name": "stdout",
     "output_type": "stream",
     "text": [
      "Sum of 2 + 3 + 4 = 9\n"
     ]
    }
   ],
   "source": [
    "def three_sum(a,b,c):\n",
    "    result=a+b+c\n",
    "    print(f\"Sum of {a} + {b} + {c} = {result}\")\n",
    "three_sum(2,3,4)"
   ]
  },
  {
   "cell_type": "markdown",
   "id": "c86552ca-5810-417f-9147-fefba3662e58",
   "metadata": {},
   "source": [
    "**Write a function `area_circle(radius)` that returns the area of a circle. Use π = 3.14159**"
   ]
  },
  {
   "cell_type": "code",
   "execution_count": 3,
   "id": "637adcf7-56cd-4730-b6db-34e9ddbb48fd",
   "metadata": {},
   "outputs": [
    {
     "name": "stdin",
     "output_type": "stream",
     "text": [
      "Enter radius of circle 12\n"
     ]
    },
    {
     "data": {
      "text/plain": [
       "452.3893421169302"
      ]
     },
     "execution_count": 3,
     "metadata": {},
     "output_type": "execute_result"
    }
   ],
   "source": [
    "import math\n",
    "def area_circle(radius):\n",
    "    return math.pi*radius*radius\n",
    "input=float(input(\"Enter radius of circle: \"))\n",
    "area_circle(input)"
   ]
  },
  {
   "cell_type": "markdown",
   "id": "35a4774e-d0cb-4d71-a1ca-6d1e17d4697d",
   "metadata": {},
   "source": [
    "**Write a function `check_even_odd(num)` that prints whether a number is Even or Odd.**"
   ]
  },
  {
   "cell_type": "code",
   "execution_count": 13,
   "id": "7e55cab6-e557-4dcb-9ad4-b29cc94120fa",
   "metadata": {},
   "outputs": [
    {
     "name": "stdout",
     "output_type": "stream",
     "text": [
      "even\n"
     ]
    }
   ],
   "source": [
    "def check_even_odd(num):\n",
    "    if num % 2 == 0:\n",
    "        return 'even'\n",
    "    else:\n",
    "        return 'odd'\n",
    "\n",
    "print(check_even_odd(12))\n"
   ]
  },
  {
   "cell_type": "markdown",
   "id": "eabe642e-a77c-45fc-acea-0a460cd98b5b",
   "metadata": {},
   "source": [
    "**Write a function `calculate_bmi(weight, height)` that returns BMI value using the formula:\n",
    "BMI = weight / (height ** 2)**"
   ]
  },
  {
   "cell_type": "code",
   "execution_count": 15,
   "id": "8be5f239-5423-4042-8c67-7f15369cc0c2",
   "metadata": {},
   "outputs": [
    {
     "name": "stdout",
     "output_type": "stream",
     "text": [
      "1.569713758079409\n"
     ]
    }
   ],
   "source": [
    "def calculate_bmi(weight, height):\n",
    "    BMI=weight / (height ** 2)\n",
    "    return BMI\n",
    "print(calculate_bmi(51, 5.7))"
   ]
  },
  {
   "cell_type": "markdown",
   "id": "c08064c1-faaf-4e4e-a479-d5a862d7ee2b",
   "metadata": {},
   "source": [
    "**Write a function `greet(name, age)` that prints:Hello <your name>  you are <your age> years old!**"
   ]
  },
  {
   "cell_type": "code",
   "execution_count": 18,
   "id": "1287a578-d575-4f15-b053-d311d8f77535",
   "metadata": {},
   "outputs": [
    {
     "data": {
      "text/plain": [
       "'Hello Virat you are 36 years old'"
      ]
     },
     "execution_count": 18,
     "metadata": {},
     "output_type": "execute_result"
    }
   ],
   "source": [
    "def greet(name, age):\n",
    "    return \"Hello \"+name+\" you are \"+str(age)+\" years old\"\n",
    "greet('Virat',36)"
   ]
  },
  {
   "cell_type": "markdown",
   "id": "f796d1db-fd6c-4d4c-82cd-fc93c1edc057",
   "metadata": {},
   "source": [
    "**Write a function `find_max(a, b)` that returns the greater of the two numbers.**"
   ]
  },
  {
   "cell_type": "code",
   "execution_count": 19,
   "id": "a706700e-b4ee-46a1-bb24-d38b3afcdbd4",
   "metadata": {},
   "outputs": [
    {
     "data": {
      "text/plain": [
       "99"
      ]
     },
     "execution_count": 19,
     "metadata": {},
     "output_type": "execute_result"
    }
   ],
   "source": [
    "def find_max(a, b):\n",
    "    if a>b:\n",
    "        return a\n",
    "    else:\n",
    "        return b\n",
    "find_max(10,99)"
   ]
  },
  {
   "cell_type": "markdown",
   "id": "586690c1-6d00-4a1e-bcb6-1b2765ce37e6",
   "metadata": {},
   "source": [
    "**Write a function `power(base, exponent)` that returns base raised to the power exponent.**"
   ]
  },
  {
   "cell_type": "code",
   "execution_count": 22,
   "id": "291804f3-2914-414d-a044-22cf3afb811e",
   "metadata": {},
   "outputs": [
    {
     "name": "stdout",
     "output_type": "stream",
     "text": [
      "40353607\n"
     ]
    }
   ],
   "source": [
    "def power(base, exponent):\n",
    "    return base**exponent\n",
    "print(power(7,9))"
   ]
  },
  {
   "cell_type": "markdown",
   "id": "ceab3f81-d889-4b17-842b-d2fd8ff6011a",
   "metadata": {},
   "source": [
    "**Write a function `simple_interest(principal, rate, time)` that returns the simple interest. Formula: (P × R × T) / 100**"
   ]
  },
  {
   "cell_type": "code",
   "execution_count": 23,
   "id": "97e11291-56e6-4e8f-9fd0-0e4b4ff33bab",
   "metadata": {},
   "outputs": [
    {
     "data": {
      "text/plain": [
       "912.0"
      ]
     },
     "execution_count": 23,
     "metadata": {},
     "output_type": "execute_result"
    }
   ],
   "source": [
    "def simple_interest(principal, rate, time):\n",
    "    return (principal*time*rate)/100\n",
    "simple_interest(12000,2,3.8)"
   ]
  },
  {
   "cell_type": "markdown",
   "id": "98e2b7fe-9912-415b-9001-311baa6bd98f",
   "metadata": {},
   "source": [
    "**Write a function `is_leap_year(year)` that returns True if the year is a leap year, otherwise False.**"
   ]
  },
  {
   "cell_type": "code",
   "execution_count": 24,
   "id": "eb949cc4-495e-4b65-87bb-6c531f4757ba",
   "metadata": {},
   "outputs": [
    {
     "data": {
      "text/plain": [
       "True"
      ]
     },
     "execution_count": 24,
     "metadata": {},
     "output_type": "execute_result"
    }
   ],
   "source": [
    "def is_leap_year(year):\n",
    "    if (year % 4 == 0) and (year % 100 != 0 or year % 400 == 0):\n",
    "        return True\n",
    "    else:\n",
    "        return False\n",
    "is_leap_year(2004)"
   ]
  },
  {
   "cell_type": "code",
   "execution_count": null,
   "id": "78abcc88-8f2a-4214-aa53-a347e0259930",
   "metadata": {},
   "outputs": [],
   "source": []
  }
 ],
 "metadata": {
  "kernelspec": {
   "display_name": "Python [conda env:base] *",
   "language": "python",
   "name": "conda-base-py"
  },
  "language_info": {
   "codemirror_mode": {
    "name": "ipython",
    "version": 3
   },
   "file_extension": ".py",
   "mimetype": "text/x-python",
   "name": "python",
   "nbconvert_exporter": "python",
   "pygments_lexer": "ipython3",
   "version": "3.13.5"
  }
 },
 "nbformat": 4,
 "nbformat_minor": 5
}
