{
 "cells": [
  {
   "cell_type": "markdown",
   "id": "c432ebd6-d848-4719-811a-024269ac2c90",
   "metadata": {},
   "source": [
    "**Asssignment 6**"
   ]
  },
  {
   "cell_type": "markdown",
   "id": "4f2adcb0-3d58-491f-88f5-958a5803051d",
   "metadata": {},
   "source": [
    "**Ramesh’s basic salary is input through the keyboard. His dearness allowance is 40% of basic salary, and house rent allowance is 20% of basic salary. Write a program to calculate his gross salary.**"
   ]
  },
  {
   "cell_type": "code",
   "execution_count": 3,
   "id": "54fd6e14-f7da-4ee9-9a72-a6161329d874",
   "metadata": {},
   "outputs": [
    {
     "name": "stdin",
     "output_type": "stream",
     "text": [
      "Enter basic salary:  0\n"
     ]
    },
    {
     "name": "stdout",
     "output_type": "stream",
     "text": [
      "Your gross salary is 0.0\n"
     ]
    }
   ],
   "source": [
    "try:\n",
    "    bs = eval(input(\"Enter basic salary: \"))\n",
    "    da = 0.4 * bs\n",
    "    hra = 0.2 * bs\n",
    "    gs = bs + da + hra\n",
    "    print(f\"Your gross salary is {gs}\")\n",
    "except Exception as e:\n",
    "    print(\"An exception occurred:\", e)\n"
   ]
  },
  {
   "cell_type": "markdown",
   "id": "7644693b-073d-42da-80d0-b3ec7c4e345b",
   "metadata": {},
   "source": [
    "**The distance between two cities (in km.) is input through the keyboard. Write a program to convert and print this distance in meters, feet, inches and centimeters.**"
   ]
  },
  {
   "cell_type": "code",
   "execution_count": 7,
   "id": "c7de51b6-abae-4412-9142-910b33bd7dc5",
   "metadata": {},
   "outputs": [
    {
     "name": "stdin",
     "output_type": "stream",
     "text": [
      "Enter the distance (in KM):  12\n"
     ]
    },
    {
     "name": "stdout",
     "output_type": "stream",
     "text": [
      "12.0 kms is 12000.0 meters ,39370.08 feet ,472441.19999999995 inces ,1200000.0 centimeters\n"
     ]
    }
   ],
   "source": [
    "try:\n",
    "    dkm=eval(input(\"Enter the distance (in KM): \"))\n",
    "    dm=dkm*1000\n",
    "    df=dkm*3280.84\n",
    "    di=dkm*39370.1\n",
    "    dcm=dkm*100000\n",
    "    print(f\"{dkm} kms is {dm} meters ,{df} feet ,{di} inces ,{dcm} centimeters\")\n",
    "except Exception as e:\n",
    "    print(\"An exception occured:\",e)"
   ]
  },
  {
   "cell_type": "markdown",
   "id": "971fe99c-db78-4eb7-817e-5bbea347847a",
   "metadata": {},
   "source": [
    "**If the marks obtained by a student in five different subjects are input through the keyboard, find out the aggregate marks and percentage marks obtained by the student. Assume that the maximum marks that can be obtained by a student in each subject is 100.**"
   ]
  },
  {
   "cell_type": "code",
   "execution_count": 11,
   "id": "4c52fb8b-ea95-40be-9771-7a8c25d353c6",
   "metadata": {},
   "outputs": [
    {
     "name": "stdout",
     "output_type": "stream",
     "text": [
      "Enter marks for 5 subjects (out of 100 each):\n"
     ]
    },
    {
     "name": "stdin",
     "output_type": "stream",
     "text": [
      "Subject 1:  90\n",
      "Subject 2:  92\n",
      "Subject 3:  97\n",
      "Subject 4:  86\n",
      "Subject 5:  87\n"
     ]
    },
    {
     "name": "stdout",
     "output_type": "stream",
     "text": [
      "\n",
      "Aggregate Marks = 452.0 out of 500\n",
      "Percentage = 90.40%\n"
     ]
    }
   ],
   "source": [
    "try:\n",
    "    print(\"Enter marks for 5 subjects (out of 100 each):\")\n",
    "    s1 = eval(input(\"Subject 1: \"))\n",
    "    s2 = eval(input(\"Subject 2: \"))\n",
    "    s3 = eval(input(\"Subject 3: \"))\n",
    "    s4 = eval(input(\"Subject 4: \"))\n",
    "    s5 = eval(input(\"Subject 5: \"))\n",
    "\n",
    "    if not (s1>100 or s2>100 or s3>100 or s4>100 or s5>100):\n",
    "        total_marks = s1 + s2 + s3 + s4 + s5\n",
    "        percentage = (total_marks / 500) * 100\n",
    "        print(f\"\\nAggregate Marks = {total_marks} out of 500\")\n",
    "        print(f\"Percentage = {percentage:.2f}%\")\n",
    "    else:\n",
    "        print(\"Invalid input\")\n",
    "    \n",
    "except Exception as e:\n",
    "    print(\"An exception occurred:\", e)"
   ]
  },
  {
   "cell_type": "markdown",
   "id": "c4bc0a71-bf8d-414f-86f7-e46a4205f4d3",
   "metadata": {},
   "source": [
    "**Temperature of a city in Fahrenheit degrees is input through the keyboard. Write a program to convert this temperature into Centigrade degrees.**"
   ]
  },
  {
   "cell_type": "code",
   "execution_count": 12,
   "id": "7ab9b448-8825-4bc2-b52d-8968dcc0a301",
   "metadata": {},
   "outputs": [
    {
     "name": "stdin",
     "output_type": "stream",
     "text": [
      "Enter temprature in Farhenite:  123\n"
     ]
    },
    {
     "name": "stdout",
     "output_type": "stream",
     "text": [
      "Temprature in Centigrate: 50.55555555555556 \n"
     ]
    }
   ],
   "source": [
    "try:\n",
    "    tempf=eval(input(\"Enter temprature in Farhenite: \"))\n",
    "    tempc=(5 / 9) * (tempf - 32)\n",
    "    print(f\"Temprature in Centigrate: {tempc} \")\n",
    "except Exception as e:\n",
    "    print(\"An exception occured\",e)\n",
    "    "
   ]
  },
  {
   "cell_type": "markdown",
   "id": "562cfc74-87e5-4744-b4ef-fd094ce710ea",
   "metadata": {},
   "source": [
    "**The length & breadth of a rectangle and radius of a circle are input through the keyboard. Write a program to calculate the area & perimeter of the rectangle, and the area & circumference of the circle.**"
   ]
  },
  {
   "cell_type": "code",
   "execution_count": 14,
   "id": "9815702f-d034-44cc-81eb-6ed95f14fd0e",
   "metadata": {},
   "outputs": [
    {
     "name": "stdin",
     "output_type": "stream",
     "text": [
      "Enter length of the rectangle:  Six\n"
     ]
    },
    {
     "name": "stdout",
     "output_type": "stream",
     "text": [
      "An exception occurred: name 'Six' is not defined\n"
     ]
    }
   ],
   "source": [
    "import math\n",
    "try:\n",
    "    length = eval(input(\"Enter length of the rectangle: \"))\n",
    "    breadth = eval(input(\"Enter breadth of the rectangle: \"))\n",
    "    radius = eval(input(\"Enter radius of the circle: \"))\n",
    "    area_rect = length * breadth\n",
    "    perimeter_rect = 2 * (length + breadth)\n",
    "    area_circle = math.pi * math.pow(radius, 2)\n",
    "    circumference = 2 * math.pi * radius\n",
    "    print(f\"Rectangle Area: {area_rect}\")\n",
    "    print(f\"Rectangle Perimeter: {perimeter_rect}\")\n",
    "    print(f\"Circle Area: {area_circle:.2f}\")\n",
    "    print(f\"Circle Circumference: {circumference:.2f}\")\n",
    "\n",
    "except Exception as e:\n",
    "    print(\"An exception occurred:\", e)"
   ]
  },
  {
   "cell_type": "markdown",
   "id": "890940a9-405e-47fe-9a78-da16174cfed5",
   "metadata": {},
   "source": [
    "**Two numbers are input through the keyboard into two locations C and D. Write a program to interchange the contents of C and D.**"
   ]
  },
  {
   "cell_type": "code",
   "execution_count": 15,
   "id": "a6c6d585-3f11-449c-981f-dca3631fd1ed",
   "metadata": {},
   "outputs": [
    {
     "name": "stdin",
     "output_type": "stream",
     "text": [
      "Enter a value for C:  12\n",
      "Enter a value for D:  13\n"
     ]
    },
    {
     "name": "stdout",
     "output_type": "stream",
     "text": [
      "c=13 , d=12\n"
     ]
    }
   ],
   "source": [
    "try:\n",
    "    c=int(input(\"Enter a value for C: \"))\n",
    "    d=int(input(\"Enter a value for D: \"))\n",
    "    c,d=d,c\n",
    "    print(f\"c={c} , d={d}\")\n",
    "except Exception as e:\n",
    "    print(\"An exception occured:\",e)\n",
    "    \n",
    "    \n",
    "    "
   ]
  },
  {
   "cell_type": "markdown",
   "id": "85ac4695-ff6c-4b4a-8faf-fe240b2c7142",
   "metadata": {},
   "source": [
    "**If a five-digit number is input through the keyboard, write a program to reverse the number.**"
   ]
  },
  {
   "cell_type": "code",
   "execution_count": 16,
   "id": "af9f650d-eafe-4f93-bfe5-c6a3f501fd59",
   "metadata": {},
   "outputs": [
    {
     "name": "stdin",
     "output_type": "stream",
     "text": [
      "Enter a 5-digit number:  12345\n"
     ]
    },
    {
     "name": "stdout",
     "output_type": "stream",
     "text": [
      "Reversed number: 54321\n"
     ]
    }
   ],
   "source": [
    "try:\n",
    "    num = input(\"Enter a 5-digit number: \")\n",
    "    \n",
    "    if len(num) == 5:\n",
    "        reversed_num = num[::-1]\n",
    "        print(f\"Reversed number: {reversed_num}\")\n",
    "    else:\n",
    "        print(\"Please enter a valid 5-digit number.\")\n",
    "except Exception as e:\n",
    "    print(\"An exception occurred:\", e)"
   ]
  },
  {
   "cell_type": "markdown",
   "id": "dd034e24-6271-472d-9393-f4d9da230307",
   "metadata": {},
   "source": [
    "**If a four-digit number is input through the keyboard, write a program to obtain the sum of the first and last digit of this number.**"
   ]
  },
  {
   "cell_type": "code",
   "execution_count": 19,
   "id": "19f5d21e-b944-4ff8-a548-b9f8af31081d",
   "metadata": {},
   "outputs": [
    {
     "name": "stdin",
     "output_type": "stream",
     "text": [
      "Enter a 5-digit number:  3421\n"
     ]
    },
    {
     "name": "stdout",
     "output_type": "stream",
     "text": [
      "Sum of firt and last digit is 4\n"
     ]
    }
   ],
   "source": [
    "import math\n",
    "try:\n",
    "    num = input(\"Enter a 5-digit number: \")\n",
    "    if len(num)==4:\n",
    "        sum=int(num[0])+int(num[3])\n",
    "        print(f\"Sum of firt and last digit is {sum}\")\n",
    "    else:\n",
    "        print(\"Enter a 4 digit number\")\n",
    "except Exception as e:\n",
    "    print(\"An exception occured:\",e)"
   ]
  },
  {
   "cell_type": "markdown",
   "id": "2e48485f-9083-43fc-82b3-75157f54df73",
   "metadata": {},
   "source": [
    "**In a town, the percentage of men is 52. The percentage of total literacy is 48. If total percentage of literate men is 35 of the total population, write a program to find the total number of illiterate men and women if the population of the town is 80,000.**"
   ]
  },
  {
   "cell_type": "code",
   "execution_count": 22,
   "id": "a25bb77e-0ba2-41d5-a2ba-9bce774f6072",
   "metadata": {},
   "outputs": [
    {
     "name": "stdout",
     "output_type": "stream",
     "text": [
      "Total literate mens are 13440.0 and womens are 24960.0\n"
     ]
    }
   ],
   "source": [
    "try:\n",
    "    population=80000\n",
    "    per_men=0.52*population\n",
    "    per_women=0.48*population\n",
    "    total_literacy=0.48*population\n",
    "    men_lit=0.35*total_literacy\n",
    "    women_lit=total_literacy-men_lit\n",
    "    print(f\"Total literate mens are {men_lit} and womens are {women_lit}\")\n",
    "except Exception as e:\n",
    "    \n",
    "    print(\"An exception occured:\",e)\n"
   ]
  },
  {
   "cell_type": "markdown",
   "id": "a655dcad-f5d3-4d6d-b944-8e1294c979aa",
   "metadata": {},
   "source": [
    "**A cashier has currency notes of denominations 10, 50 and 100. If the amount to be withdrawn is input through the keyboard in hundreds, find the total number of currency notes of each denomination the cashier will have to give to the withdrawer.**"
   ]
  },
  {
   "cell_type": "code",
   "execution_count": null,
   "id": "f53024d8-7480-495d-93eb-d22c17483b6b",
   "metadata": {},
   "outputs": [],
   "source": []
  }
 ],
 "metadata": {
  "kernelspec": {
   "display_name": "Python [conda env:base] *",
   "language": "python",
   "name": "conda-base-py"
  },
  "language_info": {
   "codemirror_mode": {
    "name": "ipython",
    "version": 3
   },
   "file_extension": ".py",
   "mimetype": "text/x-python",
   "name": "python",
   "nbconvert_exporter": "python",
   "pygments_lexer": "ipython3",
   "version": "3.13.5"
  }
 },
 "nbformat": 4,
 "nbformat_minor": 5
}
