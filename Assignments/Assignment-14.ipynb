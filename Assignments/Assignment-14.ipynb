{
 "cells": [
  {
   "cell_type": "markdown",
   "id": "bdcd5683-f929-46d5-b236-e84e935a453d",
   "metadata": {},
   "source": [
    "**Assignment 14**"
   ]
  },
  {
   "cell_type": "markdown",
   "id": "a1923deb-8966-42b3-ace4-7072e8959267",
   "metadata": {},
   "source": [
    "** Q1) input=['hyd','bengaluru','mumbai','chennai']\n",
    "     output=['Hyd','Bengaluru','Mumbai','Chennai']\n",
    "\n",
    " Q2) input=['hyd','bengaluru','mumbai','chennai']\n",
    "     output=['HYD','BENGALURU','MUMBAI','CHENNAI']\n",
    "\n",
    " Q3) input=['hyd','bengaluru','mum#bai','chen#nai']\n",
    "     output=['mum#bai','chen#nai']\n",
    "\n",
    " Q4) input=['hyd','bengaluru','mum#bai','chen#nai']\n",
    "     output=['hyd','bengaluru']\n",
    "\n",
    " Q5) input=['hyd','bengaluru','mumbai','chennai']\n",
    "     multiply all indexes by 10\n",
    "\n",
    " Q6) input=['hyd','bengaluru','mumbai','chennai']\n",
    "     sum of all indexes\n",
    "\n",
    " Q7) Sum of first 10 Natural numbers **"
   ]
  },
  {
   "cell_type": "code",
   "execution_count": 1,
   "id": "78c90f98-5823-40e5-a4a9-28cc86715523",
   "metadata": {},
   "outputs": [
    {
     "name": "stdout",
     "output_type": "stream",
     "text": [
      "['Hyd', 'Bengaluru', 'Mumbai', 'Chennai']\n"
     ]
    }
   ],
   "source": [
    "Input=['hyd','bengaluru','mumbai','chennai']\n",
    "output=[]\n",
    "for i in Input:\n",
    "    output.append(i.title())\n",
    "print(output)"
   ]
  },
  {
   "cell_type": "code",
   "execution_count": 1,
   "id": "4696dfa4-ff47-4783-9b8d-810a2ed7a3b6",
   "metadata": {},
   "outputs": [
    {
     "name": "stdout",
     "output_type": "stream",
     "text": [
      "['HYD', 'BENGALURU', 'MUMBAI', 'CHENNAI']\n"
     ]
    }
   ],
   "source": [
    "Input=['hyd','bengaluru','mumbai','chennai']\n",
    "output=[]\n",
    "for i in Input:\n",
    "    output.append(i.upper())\n",
    "print(output)"
   ]
  },
  {
   "cell_type": "code",
   "execution_count": 4,
   "id": "734ff219-acb1-4ab4-b18b-80f421495b06",
   "metadata": {},
   "outputs": [
    {
     "name": "stdout",
     "output_type": "stream",
     "text": [
      "['mum#bai', 'chen#nai']\n"
     ]
    }
   ],
   "source": [
    "Input=['hyd','bengaluru','mum#bai','chen#nai']\n",
    "output=[]\n",
    "for i in Input:\n",
    "    if '#' in i :\n",
    "        output.append(i)\n",
    "    \n",
    "print(output)"
   ]
  },
  {
   "cell_type": "code",
   "execution_count": 1,
   "id": "da2ca5b2-85eb-45ac-a988-b69e91763205",
   "metadata": {},
   "outputs": [
    {
     "name": "stdout",
     "output_type": "stream",
     "text": [
      "['hyd', 'bengaluru']\n"
     ]
    }
   ],
   "source": [
    "Input=['hyd','bengaluru','mum#bai','chen#nai']\n",
    "output=[]\n",
    "for i in Input:\n",
    "    if '#' in i:\n",
    "        pass\n",
    "    else:\n",
    "        output.append(i)\n",
    "print(output)"
   ]
  },
  {
   "cell_type": "code",
   "execution_count": 1,
   "id": "78ae1d83-0573-4ab6-b5d3-4d3cc76be4b9",
   "metadata": {},
   "outputs": [
    {
     "name": "stdout",
     "output_type": "stream",
     "text": [
      "[0, 10, 20, 30]\n"
     ]
    }
   ],
   "source": [
    "Input=['hyd','bengaluru','mumbai','chennai']\n",
    "output=[]\n",
    "for i in Input:\n",
    "    output.append(Input.index(i)*10)\n",
    "print(output)"
   ]
  },
  {
   "cell_type": "code",
   "execution_count": 2,
   "id": "0f4e72b0-bab5-4a37-82be-1fef51f38d8c",
   "metadata": {},
   "outputs": [
    {
     "name": "stdout",
     "output_type": "stream",
     "text": [
      "6\n"
     ]
    }
   ],
   "source": [
    "Input=['hyd','bengaluru','mumbai','chennai']\n",
    "output=[]\n",
    "for i in Input:\n",
    "    output.append(Input.index(i))\n",
    "print(sum(output))"
   ]
  },
  {
   "cell_type": "code",
   "execution_count": 3,
   "id": "ada698d4-c274-418d-bbe6-8526dda1e5c0",
   "metadata": {},
   "outputs": [
    {
     "name": "stdout",
     "output_type": "stream",
     "text": [
      "55\n"
     ]
    }
   ],
   "source": [
    "output=[]\n",
    "for i in range(1,11):\n",
    "    output.append(i)\n",
    "print(sum(output))"
   ]
  },
  {
   "cell_type": "code",
   "execution_count": null,
   "id": "6364e57e-126b-4b0f-b0a3-3c6875bb5fd2",
   "metadata": {},
   "outputs": [],
   "source": []
  }
 ],
 "metadata": {
  "kernelspec": {
   "display_name": "Python [conda env:base] *",
   "language": "python",
   "name": "conda-base-py"
  },
  "language_info": {
   "codemirror_mode": {
    "name": "ipython",
    "version": 3
   },
   "file_extension": ".py",
   "mimetype": "text/x-python",
   "name": "python",
   "nbconvert_exporter": "python",
   "pygments_lexer": "ipython3",
   "version": "3.13.5"
  }
 },
 "nbformat": 4,
 "nbformat_minor": 5
}
