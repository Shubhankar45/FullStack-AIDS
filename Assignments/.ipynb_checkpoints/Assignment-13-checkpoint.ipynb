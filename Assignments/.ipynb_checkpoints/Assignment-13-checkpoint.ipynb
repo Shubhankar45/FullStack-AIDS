{
 "cells": [
  {
   "cell_type": "markdown",
   "id": "2fee3046-bd9e-4247-b0dd-c34ad338f2a4",
   "metadata": {},
   "source": [
    "**Assignment 13**"
   ]
  },
  {
   "cell_type": "markdown",
   "id": "3e8ed680-4e15-46fe-9e6a-b7d3a2a921c5",
   "metadata": {},
   "source": [
    "**isalnum()**"
   ]
  },
  {
   "cell_type": "code",
   "execution_count": 5,
   "id": "6993874a-c2fb-4cbf-a471-4208d66b574a",
   "metadata": {},
   "outputs": [
    {
     "name": "stdout",
     "output_type": "stream",
     "text": [
      "True\n",
      "False\n"
     ]
    }
   ],
   "source": [
    "str1=\"123abc\"\n",
    "str2=\"5.9\"\n",
    "print(str1.isalnum())\n",
    "print(str2.isalnum())\n"
   ]
  },
  {
   "cell_type": "markdown",
   "id": "1d371447-b424-4471-969f-d1ebfd6241d6",
   "metadata": {},
   "source": [
    "**isalpha()**"
   ]
  },
  {
   "cell_type": "code",
   "execution_count": 6,
   "id": "56f4386d-7528-4f49-ba92-15a3dac63a00",
   "metadata": {},
   "outputs": [
    {
     "name": "stdout",
     "output_type": "stream",
     "text": [
      "True\n",
      "False\n"
     ]
    }
   ],
   "source": [
    "str1=\"virat\"\n",
    "str2=\"18\"\n",
    "print(str1.isalpha())\n",
    "print(str2.isalpha())"
   ]
  },
  {
   "cell_type": "markdown",
   "id": "8d2324fa-5edc-4dc7-ba79-95281c40f061",
   "metadata": {},
   "source": [
    "**isascii()**"
   ]
  },
  {
   "cell_type": "code",
   "execution_count": 7,
   "id": "27f20497-6638-4b63-93b8-669972c5253c",
   "metadata": {},
   "outputs": [
    {
     "name": "stdout",
     "output_type": "stream",
     "text": [
      "True\n",
      "True\n"
     ]
    }
   ],
   "source": [
    "str1=\"65\"\n",
    "str2=\"A\"\n",
    "print(str1.isascii())\n",
    "print(str2.isascii())"
   ]
  },
  {
   "cell_type": "markdown",
   "id": "c3cbe20a-c984-419e-9730-5201fbf216cb",
   "metadata": {},
   "source": [
    "**isdecimal()**"
   ]
  },
  {
   "cell_type": "code",
   "execution_count": 12,
   "id": "d0306907-1788-43a1-bc5d-da38f056fadc",
   "metadata": {},
   "outputs": [
    {
     "name": "stdout",
     "output_type": "stream",
     "text": [
      "False\n",
      "True\n"
     ]
    }
   ],
   "source": [
    "str1=\"6.5\"\n",
    "str2=\"65\"\n",
    "print(str1.isdecimal())\n",
    "print(str2.isdecimal())"
   ]
  },
  {
   "cell_type": "markdown",
   "id": "a38f09ce-9c7e-446b-a70a-7b3a7529834c",
   "metadata": {},
   "source": [
    "**isdigit()**"
   ]
  },
  {
   "cell_type": "code",
   "execution_count": 13,
   "id": "8ab8df71-734d-482c-a507-b94eeeab6985",
   "metadata": {},
   "outputs": [
    {
     "name": "stdout",
     "output_type": "stream",
     "text": [
      "True\n",
      "False\n"
     ]
    }
   ],
   "source": [
    "str1=\"18\"\n",
    "str2=\"virat\"\n",
    "print(str1.isdigit())\n",
    "print(str2.isdigit())"
   ]
  },
  {
   "cell_type": "markdown",
   "id": "fdf229cf-a3eb-4739-816e-dffe5535c8de",
   "metadata": {},
   "source": [
    "**isidentifier()**"
   ]
  },
  {
   "cell_type": "code",
   "execution_count": 14,
   "id": "576d4c4f-26b1-47f3-8e4f-b1ed8d34503e",
   "metadata": {},
   "outputs": [
    {
     "name": "stdout",
     "output_type": "stream",
     "text": [
      "True\n",
      "False\n"
     ]
    }
   ],
   "source": [
    "str1=\"abc\"\n",
    "str2=\"123abc\"\n",
    "print(str1.isidentifier())\n",
    "print(str2.isidentifier())"
   ]
  },
  {
   "cell_type": "markdown",
   "id": "5ee828e0-9865-49a1-97bb-9996d97fe81c",
   "metadata": {},
   "source": [
    "**islower()**"
   ]
  },
  {
   "cell_type": "code",
   "execution_count": 15,
   "id": "d8103e8b-059c-45f5-a273-1d5f1101fb69",
   "metadata": {},
   "outputs": [
    {
     "name": "stdout",
     "output_type": "stream",
     "text": [
      "True\n",
      "False\n"
     ]
    }
   ],
   "source": [
    "str1=\"abc\"\n",
    "str2=\"Abc\"\n",
    "print(str1.islower())\n",
    "print(str2.islower())"
   ]
  },
  {
   "cell_type": "markdown",
   "id": "4cb9a34c-e960-42d0-8c35-ab5416b909d7",
   "metadata": {},
   "source": [
    "**isnumeric()**"
   ]
  },
  {
   "cell_type": "code",
   "execution_count": 16,
   "id": "42366fca-b444-4fa5-b031-bed685d32cf5",
   "metadata": {},
   "outputs": [
    {
     "name": "stdout",
     "output_type": "stream",
     "text": [
      "True\n",
      "False\n"
     ]
    }
   ],
   "source": [
    "str1=\"123\"\n",
    "str2=\"3AC\"\n",
    "print(str1.isnumeric())\n",
    "print(str2.isnumeric())"
   ]
  },
  {
   "cell_type": "markdown",
   "id": "4b0d3053-6c41-42bf-85d5-2b58dff579fa",
   "metadata": {},
   "source": [
    "**isprintable()**"
   ]
  },
  {
   "cell_type": "code",
   "execution_count": 18,
   "id": "e64a2fa9-9b3a-4ecd-a779-4edf22a917d8",
   "metadata": {},
   "outputs": [
    {
     "name": "stdout",
     "output_type": "stream",
     "text": [
      "True\n",
      "True\n"
     ]
    }
   ],
   "source": [
    "str1=\"123\"\n",
    "str2=\"\\n\"\n",
    "print(str1.isprintable())\n",
    "print(str2.isprintable())"
   ]
  },
  {
   "cell_type": "code",
   "execution_count": null,
   "id": "4f0c60d7-850a-4f94-aaa6-b3fa922cf54f",
   "metadata": {},
   "outputs": [],
   "source": []
  }
 ],
 "metadata": {
  "kernelspec": {
   "display_name": "Python [conda env:base] *",
   "language": "python",
   "name": "conda-base-py"
  },
  "language_info": {
   "codemirror_mode": {
    "name": "ipython",
    "version": 3
   },
   "file_extension": ".py",
   "mimetype": "text/x-python",
   "name": "python",
   "nbconvert_exporter": "python",
   "pygments_lexer": "ipython3",
   "version": "3.13.5"
  }
 },
 "nbformat": 4,
 "nbformat_minor": 5
}
