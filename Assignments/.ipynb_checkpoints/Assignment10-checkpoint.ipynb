{
 "cells": [
  {
   "cell_type": "markdown",
   "id": "85304ccc-032e-49c1-aad1-3ab5f7fe7684",
   "metadata": {},
   "source": [
    "**Assignment 10**"
   ]
  },
  {
   "cell_type": "markdown",
   "id": "104a9483-cbb1-4d2a-bba8-a688fb87a325",
   "metadata": {},
   "source": [
    "**Write a program ask the user take a number print square of the number ask the repeat the task 3 times**"
   ]
  },
  {
   "cell_type": "code",
   "execution_count": 1,
   "id": "5f0b3edb-fcdd-45f7-b18e-b62d428e591e",
   "metadata": {},
   "outputs": [
    {
     "name": "stdin",
     "output_type": "stream",
     "text": [
      "Enter a number:  10\n"
     ]
    },
    {
     "name": "stdout",
     "output_type": "stream",
     "text": [
      "Square: 100.0\n"
     ]
    },
    {
     "name": "stdin",
     "output_type": "stream",
     "text": [
      "Enter a number:  20\n"
     ]
    },
    {
     "name": "stdout",
     "output_type": "stream",
     "text": [
      "Square: 400.0\n"
     ]
    },
    {
     "name": "stdin",
     "output_type": "stream",
     "text": [
      "Enter a number:  3\n"
     ]
    },
    {
     "name": "stdout",
     "output_type": "stream",
     "text": [
      "Square: 9.0\n"
     ]
    }
   ],
   "source": [
    "whhile(n<4):\n",
    "    num = float(input(\"Enter a number: \"))\n",
    "    square = num ** 2\n",
    "    print(\"Square:\", square)\n"
   ]
  },
  {
   "cell_type": "markdown",
   "id": "9cbdba01-034f-48d3-a344-1cc3a0497849",
   "metadata": {},
   "source": [
    "**Write a program 7th table**"
   ]
  },
  {
   "cell_type": "code",
   "execution_count": 5,
   "id": "0377dae9-9b70-4dcc-b6cf-8cef88a5ffd6",
   "metadata": {},
   "outputs": [
    {
     "name": "stdout",
     "output_type": "stream",
     "text": [
      "7*1 = 7 \n",
      "7*2 = 14 \n",
      "7*3 = 21 \n",
      "7*4 = 28 \n",
      "7*5 = 35 \n",
      "7*6 = 42 \n",
      "7*7 = 49 \n",
      "7*8 = 56 \n",
      "7*9 = 63 \n",
      "7*10 = 70 \n"
     ]
    }
   ],
   "source": [
    "for i in range(1,11):\n",
    "    print(f\"7*{i} = {7*i} \")\n",
    "    \n",
    "   "
   ]
  },
  {
   "cell_type": "markdown",
   "id": "862150c3-0ece-417e-a935-7de223743bbd",
   "metadata": {},
   "source": [
    "**Ask the user enter a number print even or odd repeat the task 5 times**"
   ]
  },
  {
   "cell_type": "code",
   "execution_count": 11,
   "id": "dc4b7d49-367b-4902-939b-4ad356134192",
   "metadata": {},
   "outputs": [],
   "source": [
    "del input"
   ]
  },
  {
   "cell_type": "code",
   "execution_count": 12,
   "id": "9d6ce31d-036a-4502-8e43-02da1bde4f57",
   "metadata": {},
   "outputs": [
    {
     "name": "stdin",
     "output_type": "stream",
     "text": [
      "Enter a number:  12\n"
     ]
    },
    {
     "name": "stdout",
     "output_type": "stream",
     "text": [
      "12: even\n"
     ]
    },
    {
     "name": "stdin",
     "output_type": "stream",
     "text": [
      "Enter a number:  13\n"
     ]
    },
    {
     "name": "stdout",
     "output_type": "stream",
     "text": [
      "13: odd\n"
     ]
    },
    {
     "name": "stdin",
     "output_type": "stream",
     "text": [
      "Enter a number:  14\n"
     ]
    },
    {
     "name": "stdout",
     "output_type": "stream",
     "text": [
      "14: even\n"
     ]
    },
    {
     "name": "stdin",
     "output_type": "stream",
     "text": [
      "Enter a number:  15\n"
     ]
    },
    {
     "name": "stdout",
     "output_type": "stream",
     "text": [
      "15: odd\n"
     ]
    },
    {
     "name": "stdin",
     "output_type": "stream",
     "text": [
      "Enter a number:  16\n"
     ]
    },
    {
     "name": "stdout",
     "output_type": "stream",
     "text": [
      "16: even\n"
     ]
    }
   ],
   "source": [
    "for i in range(5):\n",
    "    num = int(input(\"Enter a number: \"))\n",
    "    if num % 2 == 0:\n",
    "        print(f\"{num}: even\")\n",
    "    else:\n",
    "        print(f\"{num}: odd\")"
   ]
  },
  {
   "cell_type": "markdown",
   "id": "df1a254c-084c-4d71-9af2-8f36b5bc31e4",
   "metadata": {},
   "source": [
    "**Ask the user get a random number between 1 to 100 print even or odd repeat the task 5 times**"
   ]
  },
  {
   "cell_type": "code",
   "execution_count": null,
   "id": "440ab652-9a6d-4fa9-b819-654b7c1019f1",
   "metadata": {},
   "outputs": [
    {
     "name": "stdin",
     "output_type": "stream",
     "text": [
      "Enter a number between 1-100 12\n"
     ]
    },
    {
     "name": "stdout",
     "output_type": "stream",
     "text": [
      "12: even\n"
     ]
    },
    {
     "name": "stdin",
     "output_type": "stream",
     "text": [
      "Enter a number between 1-100 13\n"
     ]
    },
    {
     "name": "stdout",
     "output_type": "stream",
     "text": [
      "13: odd\n"
     ]
    },
    {
     "name": "stdin",
     "output_type": "stream",
     "text": [
      "Enter a number between 1-100 14\n"
     ]
    },
    {
     "name": "stdout",
     "output_type": "stream",
     "text": [
      "14: even\n"
     ]
    },
    {
     "name": "stdin",
     "output_type": "stream",
     "text": [
      "Enter a number between 1-100 15\n"
     ]
    },
    {
     "name": "stdout",
     "output_type": "stream",
     "text": [
      "15: odd\n"
     ]
    }
   ],
   "source": [
    "import random\n",
    "for i in range(5):\n",
    "    num=int(input(\"Enter a number between 1-100\"))\n",
    "    if num % 2 == 0:\n",
    "        print(f\"{num}: even\")\n",
    "    else:\n",
    "        print(f\"{num}: odd\")"
   ]
  },
  {
   "cell_type": "markdown",
   "id": "e4cf6258-ce53-48cc-aa33-5ec5c59a78f0",
   "metadata": {},
   "source": [
    "**WAP ask the user find the divisiors of 75**"
   ]
  },
  {
   "cell_type": "code",
   "execution_count": 4,
   "id": "eae54d1a-f454-4d02-b652-008e8f5f846b",
   "metadata": {},
   "outputs": [
    {
     "name": "stdout",
     "output_type": "stream",
     "text": [
      "0\n"
     ]
    }
   ],
   "source": []
  },
  {
   "cell_type": "code",
   "execution_count": null,
   "id": "ce345fc4-3e50-4e84-b9a6-b9a3b2cdb385",
   "metadata": {},
   "outputs": [],
   "source": []
  }
 ],
 "metadata": {
  "kernelspec": {
   "display_name": "Python [conda env:base] *",
   "language": "python",
   "name": "conda-base-py"
  },
  "language_info": {
   "codemirror_mode": {
    "name": "ipython",
    "version": 3
   },
   "file_extension": ".py",
   "mimetype": "text/x-python",
   "name": "python",
   "nbconvert_exporter": "python",
   "pygments_lexer": "ipython3",
   "version": "3.13.5"
  }
 },
 "nbformat": 4,
 "nbformat_minor": 5
}
