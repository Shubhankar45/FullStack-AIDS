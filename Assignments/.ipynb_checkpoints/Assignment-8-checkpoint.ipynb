{
 "cells": [
  {
   "cell_type": "markdown",
   "id": "a13646e5-5f26-4d80-bac4-9349b2069728",
   "metadata": {},
   "source": [
    "**Assignment 8**"
   ]
  },
  {
   "cell_type": "markdown",
   "id": "127d72d2-3410-4c5f-924d-f9a6f3073c21",
   "metadata": {},
   "source": [
    "**Write a function `sum_three(a, b, c)` that returns the sum of the three numbers.**"
   ]
  },
  {
   "cell_type": "code",
   "execution_count": 2,
   "id": "c1b717ed-0096-4a96-b55a-7de6670c19bb",
   "metadata": {},
   "outputs": [
    {
     "data": {
      "text/plain": [
       "9"
      ]
     },
     "execution_count": 2,
     "metadata": {},
     "output_type": "execute_result"
    }
   ],
   "source": [
    "def three_sum(a,b,c):\n",
    "    return a+b+c\n",
    "three_sum(2,3,4)"
   ]
  },
  {
   "cell_type": "code",
   "execution_count": 1,
   "id": "45f7b56b-cd1d-46ff-a850-1cc7dba0e80d",
   "metadata": {},
   "outputs": [
    {
     "name": "stdout",
     "output_type": "stream",
     "text": [
      "Sum of 2 + 3 + 4 = 9\n"
     ]
    }
   ],
   "source": [
    "def three_sum(a,b,c):\n",
    "    result=a+b+c\n",
    "    print(f\"Sum of {a} + {b} + {c} = {result}\")\n",
    "three_sum(2,3,4)"
   ]
  },
  {
   "cell_type": "markdown",
   "id": "c86552ca-5810-417f-9147-fefba3662e58",
   "metadata": {},
   "source": [
    "**Write a function `area_circle(radius)` that returns the area of a circle. Use π = 3.14159**"
   ]
  },
  {
   "cell_type": "code",
   "execution_count": 3,
   "id": "637adcf7-56cd-4730-b6db-34e9ddbb48fd",
   "metadata": {},
   "outputs": [
    {
     "name": "stdin",
     "output_type": "stream",
     "text": [
      "Enter radius of circle 12\n"
     ]
    },
    {
     "data": {
      "text/plain": [
       "452.3893421169302"
      ]
     },
     "execution_count": 3,
     "metadata": {},
     "output_type": "execute_result"
    }
   ],
   "source": [
    "import math\n",
    "def area_circle(radius):\n",
    "    return math.pi*radius*radius\n",
    "input=float(input(\"Enter radius of circle: \"))\n",
    "area_circle(input)"
   ]
  },
  {
   "cell_type": "markdown",
   "id": "35a4774e-d0cb-4d71-a1ca-6d1e17d4697d",
   "metadata": {},
   "source": [
    "**Write a function `check_even_odd(num)` that prints whether a number is Even or Odd.**"
   ]
  },
  {
   "cell_type": "code",
   "execution_count": 6,
   "id": "7e55cab6-e557-4dcb-9ad4-b29cc94120fa",
   "metadata": {},
   "outputs": [
    {
     "ename": "TypeError",
     "evalue": "'float' object is not callable",
     "output_type": "error",
     "traceback": [
      "\u001b[1;31m---------------------------------------------------------------------------\u001b[0m",
      "\u001b[1;31mTypeError\u001b[0m                                 Traceback (most recent call last)",
      "Cell \u001b[1;32mIn[6], line 6\u001b[0m\n\u001b[0;32m      4\u001b[0m     \u001b[38;5;28;01melse\u001b[39;00m:\n\u001b[0;32m      5\u001b[0m         \u001b[38;5;28;01mreturn\u001b[39;00m \u001b[38;5;124m'\u001b[39m\u001b[38;5;124modd\u001b[39m\u001b[38;5;124m'\u001b[39m\n\u001b[1;32m----> 6\u001b[0m \u001b[38;5;28minput\u001b[39m\u001b[38;5;241m=\u001b[39m\u001b[38;5;28mint\u001b[39m(\u001b[38;5;28minput\u001b[39m(\u001b[38;5;124m\"\u001b[39m\u001b[38;5;124mEnter a number: \u001b[39m\u001b[38;5;124m\"\u001b[39m))\n\u001b[0;32m      7\u001b[0m \u001b[38;5;28mprint\u001b[39m(\u001b[38;5;124mf\u001b[39m\u001b[38;5;124m\"\u001b[39m\u001b[38;5;132;01m{\u001b[39;00m\u001b[38;5;28minput\u001b[39m\u001b[38;5;132;01m}\u001b[39;00m\u001b[38;5;124m is \u001b[39m\u001b[38;5;132;01m{\u001b[39;00mcheck_even_odd(\u001b[38;5;28minput\u001b[39m)\u001b[38;5;132;01m}\u001b[39;00m\u001b[38;5;124m \u001b[39m\u001b[38;5;124m\"\u001b[39m)\n",
      "\u001b[1;31mTypeError\u001b[0m: 'float' object is not callable"
     ]
    }
   ],
   "source": [
    "def check_even_odd(num):\n",
    "    if num%2==0:\n",
    "        return 'even'\n",
    "    else:\n",
    "        return 'odd'\n",
    "input=int(input(\"Enter a number: \"))\n",
    "res=check_even_odd(input)\n",
    "print(f\"{input} is {res} \")"
   ]
  },
  {
   "cell_type": "code",
   "execution_count": null,
   "id": "285e7c7c-2e48-4476-bb12-1c303839352a",
   "metadata": {},
   "outputs": [],
   "source": []
  }
 ],
 "metadata": {
  "kernelspec": {
   "display_name": "Python [conda env:base] *",
   "language": "python",
   "name": "conda-base-py"
  },
  "language_info": {
   "codemirror_mode": {
    "name": "ipython",
    "version": 3
   },
   "file_extension": ".py",
   "mimetype": "text/x-python",
   "name": "python",
   "nbconvert_exporter": "python",
   "pygments_lexer": "ipython3",
   "version": "3.13.5"
  }
 },
 "nbformat": 4,
 "nbformat_minor": 5
}
