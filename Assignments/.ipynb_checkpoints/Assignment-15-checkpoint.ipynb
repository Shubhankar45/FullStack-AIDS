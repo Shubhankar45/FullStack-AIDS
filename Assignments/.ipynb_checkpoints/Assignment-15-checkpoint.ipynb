{
 "cells": [
  {
   "cell_type": "markdown",
   "id": "bf7a9565-23a9-48e6-85a1-edfc6ca9d685",
   "metadata": {},
   "source": [
    "**Assignment 15**"
   ]
  },
  {
   "cell_type": "markdown",
   "id": "5f599b36-cfbc-48d4-a368-f5febd12a8be",
   "metadata": {},
   "source": [
    "**Find the max value in a given list with out using max function\n",
    "l=[3,2,7,1,9,5]\n",
    "max=9**"
   ]
  },
  {
   "cell_type": "code",
   "execution_count": 3,
   "id": "f9dcbdd9-1e31-4f53-83ad-72c63540e8ce",
   "metadata": {},
   "outputs": [
    {
     "name": "stdout",
     "output_type": "stream",
     "text": [
      "9\n"
     ]
    }
   ],
   "source": [
    "l=[3,2,7,1,9,5]\n",
    "max=l[0]\n",
    "for i in l:\n",
    "    if max<i:\n",
    "        max=i\n",
    "print(max)"
   ]
  },
  {
   "cell_type": "markdown",
   "id": "ef3cf7b5-ab0d-461f-adf7-d74375ca2316",
   "metadata": {},
   "source": [
    "**Find the min value in a given list with out using min function\n",
    "l=[3,2,7,1,9,5]\n",
    "min=1**"
   ]
  },
  {
   "cell_type": "code",
   "execution_count": 2,
   "id": "78d59601-0a68-4927-994a-47f71ea94c8e",
   "metadata": {},
   "outputs": [
    {
     "name": "stdout",
     "output_type": "stream",
     "text": [
      "1\n"
     ]
    }
   ],
   "source": [
    "l=[3,2,7,1,9,5]\n",
    "min=l[0]\n",
    "for i in l:\n",
    "    if min>i:\n",
    "        min=i\n",
    "print(min)"
   ]
  },
  {
   "cell_type": "markdown",
   "id": "143bc9cd-db5f-41c1-90b4-8f589508fd79",
   "metadata": {},
   "source": [
    "**Sort values\n",
    "l=[3,2,7,1,9,5]\n",
    "out=[1,2,3,5,7,9]**"
   ]
  },
  {
   "cell_type": "code",
   "execution_count": 7,
   "id": "0a8fa5e1-8aa8-4fcd-8500-9e567848efec",
   "metadata": {},
   "outputs": [
    {
     "name": "stdout",
     "output_type": "stream",
     "text": [
      "[1, 2, 3, 5, 7, 9]\n"
     ]
    }
   ],
   "source": [
    "l=[3,2,7,1,9,5]\n",
    "n = len(l)\n",
    "for i in range(n):\n",
    "    for j in range(0, n-i-1):\n",
    "        if l[j] > l[j+1]:\n",
    "            l[j], l[j+1] = l[j+1], l[j]\n",
    "\n",
    "print(l)        "
   ]
  },
  {
   "cell_type": "markdown",
   "id": "900de7db-f9ac-4995-97ae-c1e73bb23c2d",
   "metadata": {},
   "source": [
    "**Reverse values\n",
    "l=[3,2,7,1,9,5]\n",
    "out=[5,9,1,7,2,3]**"
   ]
  },
  {
   "cell_type": "code",
   "execution_count": 9,
   "id": "09f26696-bbf4-480f-9797-c30724bad970",
   "metadata": {},
   "outputs": [
    {
     "name": "stdout",
     "output_type": "stream",
     "text": [
      "[5, 9, 1, 7, 2, 3]\n"
     ]
    }
   ],
   "source": [
    "l=[3,2,7,1,9,5]\n",
    "print(l[::-1])"
   ]
  },
  {
   "cell_type": "markdown",
   "id": "ef2a9a34-8111-408f-9996-be1cf9b34ddc",
   "metadata": {},
   "source": [
    "**Find the second min value in a given list with out using min function\n",
    "l=[3,2,7,1,9,5]\n",
    "min=2**"
   ]
  },
  {
   "cell_type": "code",
   "execution_count": null,
   "id": "7a547c93-a133-4c1b-8e21-ea5bada3d654",
   "metadata": {},
   "outputs": [],
   "source": [
    "def sort(l):\n",
    "    n = len(l)\n",
    "    for i in range(n):\n",
    "        for j in range(0, n-i-1):\n",
    "            if l[j] > l[j+1]:\n",
    "                l[j], l[j+1] = l[j+1], l[j]\n",
    "    print(l) \n",
    "            \n",
    "        \n",
    "            \n",
    "        \n",
    "    \n",
    "\n"
   ]
  }
 ],
 "metadata": {
  "kernelspec": {
   "display_name": "Python [conda env:base] *",
   "language": "python",
   "name": "conda-base-py"
  },
  "language_info": {
   "codemirror_mode": {
    "name": "ipython",
    "version": 3
   },
   "file_extension": ".py",
   "mimetype": "text/x-python",
   "name": "python",
   "nbconvert_exporter": "python",
   "pygments_lexer": "ipython3",
   "version": "3.13.5"
  }
 },
 "nbformat": 4,
 "nbformat_minor": 5
}
