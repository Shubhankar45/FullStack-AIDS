{
 "cells": [
  {
   "cell_type": "markdown",
   "id": "d1a7d7ad-0527-4b33-8aff-2e084953fd00",
   "metadata": {},
   "source": [
    "**Assignment 9**"
   ]
  },
  {
   "cell_type": "markdown",
   "id": "effcdd40-363b-44e7-a7e0-577d9eac7779",
   "metadata": {},
   "source": [
    "**Imagine that your develop internet\n",
    "Case-1: when ever the correct pwd : code should stop\n",
    "Case-2: whenever you are enter the wrong\n",
    "           wrong pwd\n",
    "           still have 2 chances\n",
    "           still have 1 cahnces\n",
    "Case-3: whenerver all the chances\n",
    "         try afer 24hours print**"
   ]
  },
  {
   "cell_type": "code",
   "execution_count": 8,
   "id": "683735ef-81b7-4224-87bc-8a9b8ebec1b1",
   "metadata": {},
   "outputs": [],
   "source": [
    "del input"
   ]
  },
  {
   "cell_type": "code",
   "execution_count": 9,
   "id": "8ba57603-0745-4d6e-8975-e7b1b0cd792a",
   "metadata": {},
   "outputs": [
    {
     "name": "stdin",
     "output_type": "stream",
     "text": [
      "Enter password:  r\n"
     ]
    },
    {
     "name": "stdout",
     "output_type": "stream",
     "text": [
      "Wrong password. Still have 2 chance(s).\n"
     ]
    },
    {
     "name": "stdin",
     "output_type": "stream",
     "text": [
      "Enter password:  e\n"
     ]
    },
    {
     "name": "stdout",
     "output_type": "stream",
     "text": [
      "Wrong password. Still have 1 chance(s).\n"
     ]
    },
    {
     "name": "stdin",
     "output_type": "stream",
     "text": [
      "Enter password:  d\n"
     ]
    },
    {
     "name": "stdout",
     "output_type": "stream",
     "text": [
      "All chances used. Try after 24 hours.\n"
     ]
    }
   ],
   "source": [
    "password = \"ram\"\n",
    "\n",
    "for attempt in range(3):\n",
    "    inp = input(\"Enter password: \")\n",
    "    \n",
    "    if inp == password:\n",
    "        print(\"Successfully login!!\")\n",
    "        break\n",
    "    else:\n",
    "        chances_left = 2 - attempt\n",
    "        if chances_left > 0:\n",
    "            print(f\"Wrong password. Still have {chances_left} chances.\")\n",
    "        else:\n",
    "            print(\"All chances used. Try after 24 hours.\")\n"
   ]
  },
  {
   "cell_type": "code",
   "execution_count": null,
   "id": "7b1712b4-f8e5-4034-9fca-2f5f56adf33f",
   "metadata": {},
   "outputs": [],
   "source": []
  }
 ],
 "metadata": {
  "kernelspec": {
   "display_name": "Python [conda env:base] *",
   "language": "python",
   "name": "conda-base-py"
  },
  "language_info": {
   "codemirror_mode": {
    "name": "ipython",
    "version": 3
   },
   "file_extension": ".py",
   "mimetype": "text/x-python",
   "name": "python",
   "nbconvert_exporter": "python",
   "pygments_lexer": "ipython3",
   "version": "3.13.5"
  }
 },
 "nbformat": 4,
 "nbformat_minor": 5
}
