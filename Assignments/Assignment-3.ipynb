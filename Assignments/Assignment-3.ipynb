{
 "cells": [
  {
   "cell_type": "markdown",
   "id": "45bc478b-4e35-47e0-a14e-26a36ba5a5dc",
   "metadata": {},
   "source": [
    "**Assignment 3**"
   ]
  },
  {
   "cell_type": "markdown",
   "id": "454d0229-6036-4145-ac28-b18099a13a0d",
   "metadata": {},
   "source": [
    "**What is the purpose of the random module?**"
   ]
  },
  {
   "cell_type": "markdown",
   "id": "93a9a821-8b19-4b5e-ad0d-a5485ae87b0d",
   "metadata": {},
   "source": [
    "The random module in Python is used to perform random number generation and operations involving randomness. "
   ]
  },
  {
   "cell_type": "markdown",
   "id": "6aaf6273-19f7-4a54-bcd6-844d73ade8fa",
   "metadata": {},
   "source": [
    "**What is the difference between random.random() and random.randint()?**"
   ]
  },
  {
   "cell_type": "markdown",
   "id": "843cf49a-a081-4662-b106-be8d0e4d5cbd",
   "metadata": {},
   "source": [
    "| Function               | Returns | Range                | Use Case                      |\n",
    "| ---------------------- | ------- | -------------------- | ----------------------------- |\n",
    "| `random.random()`      | `float` | `[0.0, 1.0)`         | Probabilities, simulations    |\n",
    "| `random.randint(a, b)` | `int`   | `[a, b]` (inclusive) | Whole-number-based randomness |\n"
   ]
  },
  {
   "cell_type": "markdown",
   "id": "44692f63-8161-4e04-800a-c0b131abe6aa",
   "metadata": {},
   "source": [
    "**Generate a random integer between 10 and 50**"
   ]
  },
  {
   "cell_type": "code",
   "execution_count": 3,
   "id": "d7715a69-0be6-4147-805e-7895f70f85e3",
   "metadata": {},
   "outputs": [
    {
     "name": "stdout",
     "output_type": "stream",
     "text": [
      "28\n"
     ]
    }
   ],
   "source": [
    "import random\n",
    "print(random.randint(10,50))\n"
   ]
  },
  {
   "cell_type": "markdown",
   "id": "fb5c8e37-3caa-4f83-b976-d00b78df9df9",
   "metadata": {},
   "source": [
    "**Pick a random element from the list: [\"apple\", \"banana\", \"cherry\", \"mango\"].**"
   ]
  },
  {
   "cell_type": "code",
   "execution_count": 5,
   "id": "eb97ae51-0ce7-4273-ae27-fc34ed687cf0",
   "metadata": {},
   "outputs": [
    {
     "name": "stdout",
     "output_type": "stream",
     "text": [
      "mango\n"
     ]
    }
   ],
   "source": [
    "import random\n",
    "fruits=[\"apple\", \"banana\", \"cherry\", \"mango\"]\n",
    "print(random.choice(fruits))"
   ]
  },
  {
   "cell_type": "markdown",
   "id": "2baa3632-fcc2-4463-9814-1cb786312c0a",
   "metadata": {},
   "source": [
    "**What is the difference between math.floor() and math.ceil()?**"
   ]
  },
  {
   "cell_type": "markdown",
   "id": "512efc1a-c7a6-40a0-b2e9-6902a044a5cf",
   "metadata": {},
   "source": [
    "| Function        | Description                   | Example (`x = 3.7`) | Result |\n",
    "| --------------- | ----------------------------- | ------------------- | ------ |\n",
    "| `math.floor(x)` | Round **down** to nearest int | `math.floor(3.7)`   | `3`    |\n",
    "| `math.ceil(x)`  | Round **up** to nearest int   | `math.ceil(3.7)`    | `4`    |\n"
   ]
  },
  {
   "cell_type": "markdown",
   "id": "6f091234-05b1-4622-a0c6-dddf4dddcdf8",
   "metadata": {},
   "source": [
    "**How does math.sqrt() work?**"
   ]
  },
  {
   "cell_type": "markdown",
   "id": "52997255-5fbd-4ee4-9aa8-c47cedb1e688",
   "metadata": {},
   "source": [
    "The math.sqrt() function in Python is used to calculate the square root of a number .\n",
    "How It Works:\n",
    "Returns the non-negative square root of a number.\n",
    "\n",
    "Input must be a non-negative number (positive or zero).\n",
    "\n",
    "Comes from the math module."
   ]
  },
  {
   "cell_type": "markdown",
   "id": "ce0605b1-ce69-42b2-a8ff-3821df511b37",
   "metadata": {},
   "source": [
    "**Calculate the square root of 625.**"
   ]
  },
  {
   "cell_type": "code",
   "execution_count": 6,
   "id": "44ef5650-1fb0-4da9-b845-adafdf2e7ff8",
   "metadata": {},
   "outputs": [
    {
     "name": "stdout",
     "output_type": "stream",
     "text": [
      "25.0\n"
     ]
    }
   ],
   "source": [
    "import math\n",
    "print(math.sqrt(625))\n"
   ]
  },
  {
   "cell_type": "markdown",
   "id": "8e439797-0e59-4242-b956-8e4e2eea8d6c",
   "metadata": {},
   "source": [
    "**Convert 90 degrees to radians**"
   ]
  },
  {
   "cell_type": "code",
   "execution_count": 7,
   "id": "d7479249-e3f9-43c8-b971-b51178945908",
   "metadata": {},
   "outputs": [
    {
     "name": "stdout",
     "output_type": "stream",
     "text": [
      "1.5707963267948966\n"
     ]
    }
   ],
   "source": [
    "import math\n",
    "print(math.radians(90))"
   ]
  },
  {
   "cell_type": "markdown",
   "id": "4e079ac0-bb44-42f8-ad64-c25a5e0d53aa",
   "metadata": {},
   "source": [
    "**Use math.pow() to calculate 3 to the power 4**"
   ]
  },
  {
   "cell_type": "code",
   "execution_count": 10,
   "id": "64070f81-2088-4596-8b25-77a1a6b13d96",
   "metadata": {},
   "outputs": [
    {
     "name": "stdout",
     "output_type": "stream",
     "text": [
      "81.0\n"
     ]
    }
   ],
   "source": [
    "import math\n",
    "print(math.pow(3,4))"
   ]
  },
  {
   "cell_type": "markdown",
   "id": "368c5e9b-6b17-4ea6-83e7-c1dad682e460",
   "metadata": {},
   "source": [
    "**Find the greatest common divisor (GCD) of 36 and 60.**"
   ]
  },
  {
   "cell_type": "code",
   "execution_count": 12,
   "id": "3edf0e22-b923-4c22-ade8-5ce52d3a0cb8",
   "metadata": {},
   "outputs": [
    {
     "name": "stdout",
     "output_type": "stream",
     "text": [
      "12\n"
     ]
    }
   ],
   "source": [
    "import math\n",
    "print(math.gcd(36,60))"
   ]
  },
  {
   "cell_type": "markdown",
   "id": "222a5c1b-7964-4bcc-b4fa-1bb969cfca12",
   "metadata": {},
   "source": [
    "**What is the purpose of time.sleep()?**"
   ]
  },
  {
   "cell_type": "markdown",
   "id": "3773e48f-42aa-4def-a70e-4f8e38c079a3",
   "metadata": {},
   "source": [
    "The time.sleep() function in Python is used to pause or delay the execution of a program for a specified number of seconds.\n",
    "Purpose:\n",
    "Introduce a delay (e.g., between actions, animations, retries).\n",
    "\n",
    "Useful in timing-based tasks, simulations, or waiting for resources.\n",
    "\n",
    "Helps in rate-limiting APIs or making output more readable."
   ]
  },
  {
   "cell_type": "markdown",
   "id": "0c40c08e-68fc-4c7a-bd4a-00fc4c89f0e4",
   "metadata": {},
   "source": [
    "**What does time.time() return?**"
   ]
  },
  {
   "cell_type": "markdown",
   "id": "8cf8d8d0-f2ed-43ce-8bb8-6c39485bbde5",
   "metadata": {},
   "source": [
    "The time.time() function in Python returns the current time in seconds since the epoch."
   ]
  },
  {
   "cell_type": "markdown",
   "id": "453f9071-73b6-4291-aa00-962eb9a7547e",
   "metadata": {},
   "source": [
    "**Print the current time in seconds since epoch.**"
   ]
  },
  {
   "cell_type": "code",
   "execution_count": 13,
   "id": "a4067fb0-09e8-425c-811e-14ed900b01b5",
   "metadata": {},
   "outputs": [
    {
     "name": "stdout",
     "output_type": "stream",
     "text": [
      "1754138037.1226857\n"
     ]
    }
   ],
   "source": [
    "import time \n",
    "print(time.time())"
   ]
  },
  {
   "cell_type": "markdown",
   "id": "31a69e0d-2d2b-43a8-979d-634ba86a5e69",
   "metadata": {},
   "source": [
    "**Print the current local time in a readable format.**"
   ]
  },
  {
   "cell_type": "code",
   "execution_count": 15,
   "id": "2e3cd777-1054-43c5-b5f8-57380b426814",
   "metadata": {},
   "outputs": [
    {
     "name": "stdout",
     "output_type": "stream",
     "text": [
      "Current time is 2025-08-02 18:06:13\n"
     ]
    }
   ],
   "source": [
    "import time\n",
    "print(f\"Current time is {time.strftime(\"%Y-%m-%d %H:%M:%S\")}\")"
   ]
  },
  {
   "cell_type": "markdown",
   "id": "f54bd5ef-0130-4888-a061-16931f5ca55c",
   "metadata": {},
   "source": [
    "**What is the purpose of the keyword module?**"
   ]
  },
  {
   "cell_type": "markdown",
   "id": "3bb6411d-b915-4e4b-9ca0-3ac51b8ed41f",
   "metadata": {},
   "source": [
    "The keyword module in Python is used to work with Python’s reserved keywords — words that cannot be used as variable names, function names, or identifiers because they have special meaning in the language.\n",
    "\n",
    "Purpose:\n",
    "To check if a string is a Python keyword\n",
    "\n",
    "To get a list of all keywords in the current version of Python"
   ]
  },
  {
   "cell_type": "markdown",
   "id": "27a7b465-ac2c-4548-a2d9-1e1e0efd49aa",
   "metadata": {},
   "source": [
    "**Can we use Python keywords as variable names?**"
   ]
  },
  {
   "cell_type": "markdown",
   "id": "86bea80e-8eac-439b-9129-b814ef4a7835",
   "metadata": {},
   "source": [
    "No, Because keywords are reserved words in Python with special meaning — they define the syntax and structure of the language."
   ]
  },
  {
   "cell_type": "markdown",
   "id": "21169662-637c-4034-9ae8-c677391f88c5",
   "metadata": {},
   "source": [
    "**Print all the Python keywords.**"
   ]
  },
  {
   "cell_type": "code",
   "execution_count": 16,
   "id": "9c1493b0-0939-4975-8080-7c3b431871c5",
   "metadata": {},
   "outputs": [
    {
     "name": "stdout",
     "output_type": "stream",
     "text": [
      "['False', 'None', 'True', 'and', 'as', 'assert', 'async', 'await', 'break', 'class', 'continue', 'def', 'del', 'elif', 'else', 'except', 'finally', 'for', 'from', 'global', 'if', 'import', 'in', 'is', 'lambda', 'nonlocal', 'not', 'or', 'pass', 'raise', 'return', 'try', 'while', 'with', 'yield']\n"
     ]
    }
   ],
   "source": [
    "import keyword\n",
    "\n",
    "print(keyword.kwlist)"
   ]
  }
 ],
 "metadata": {
  "kernelspec": {
   "display_name": "Python [conda env:base] *",
   "language": "python",
   "name": "conda-base-py"
  },
  "language_info": {
   "codemirror_mode": {
    "name": "ipython",
    "version": 3
   },
   "file_extension": ".py",
   "mimetype": "text/x-python",
   "name": "python",
   "nbconvert_exporter": "python",
   "pygments_lexer": "ipython3",
   "version": "3.13.5"
  }
 },
 "nbformat": 4,
 "nbformat_minor": 5
}
