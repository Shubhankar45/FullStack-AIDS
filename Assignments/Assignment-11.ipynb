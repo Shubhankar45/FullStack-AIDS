{
 "cells": [
  {
   "cell_type": "markdown",
   "id": "1a6244ab-6f00-41b7-b17b-63a666d62c10",
   "metadata": {},
   "source": [
    "**Assignment 11**"
   ]
  },
  {
   "cell_type": "code",
   "execution_count": 7,
   "id": "c1b8b454-f12d-442c-995f-3eccb8d7f809",
   "metadata": {},
   "outputs": [
    {
     "data": {
      "text/plain": [
       "['__add__',\n",
       " '__class__',\n",
       " '__contains__',\n",
       " '__delattr__',\n",
       " '__dir__',\n",
       " '__doc__',\n",
       " '__eq__',\n",
       " '__format__',\n",
       " '__ge__',\n",
       " '__getattribute__',\n",
       " '__getitem__',\n",
       " '__getnewargs__',\n",
       " '__getstate__',\n",
       " '__gt__',\n",
       " '__hash__',\n",
       " '__init__',\n",
       " '__init_subclass__',\n",
       " '__iter__',\n",
       " '__le__',\n",
       " '__len__',\n",
       " '__lt__',\n",
       " '__mod__',\n",
       " '__mul__',\n",
       " '__ne__',\n",
       " '__new__',\n",
       " '__reduce__',\n",
       " '__reduce_ex__',\n",
       " '__repr__',\n",
       " '__rmod__',\n",
       " '__rmul__',\n",
       " '__setattr__',\n",
       " '__sizeof__',\n",
       " '__str__',\n",
       " '__subclasshook__',\n",
       " 'capitalize',\n",
       " 'casefold',\n",
       " 'center',\n",
       " 'count',\n",
       " 'encode',\n",
       " 'endswith',\n",
       " 'expandtabs',\n",
       " 'find',\n",
       " 'format',\n",
       " 'format_map',\n",
       " 'index',\n",
       " 'isalnum',\n",
       " 'isalpha',\n",
       " 'isascii',\n",
       " 'isdecimal',\n",
       " 'isdigit',\n",
       " 'isidentifier',\n",
       " 'islower',\n",
       " 'isnumeric',\n",
       " 'isprintable',\n",
       " 'isspace',\n",
       " 'istitle',\n",
       " 'isupper',\n",
       " 'join',\n",
       " 'ljust',\n",
       " 'lower',\n",
       " 'lstrip',\n",
       " 'maketrans',\n",
       " 'partition',\n",
       " 'removeprefix',\n",
       " 'removesuffix',\n",
       " 'replace',\n",
       " 'rfind',\n",
       " 'rindex',\n",
       " 'rjust',\n",
       " 'rpartition',\n",
       " 'rsplit',\n",
       " 'rstrip',\n",
       " 'split',\n",
       " 'splitlines',\n",
       " 'startswith',\n",
       " 'strip',\n",
       " 'swapcase',\n",
       " 'title',\n",
       " 'translate',\n",
       " 'upper',\n",
       " 'zfill']"
      ]
     },
     "execution_count": 7,
     "metadata": {},
     "output_type": "execute_result"
    }
   ],
   "source": [
    "dir(\"\")"
   ]
  },
  {
   "cell_type": "markdown",
   "id": "b8f34d3c-f757-4195-bac6-0ed535f9f29e",
   "metadata": {},
   "source": [
    "**Update above code with only one vowel**"
   ]
  },
  {
   "cell_type": "code",
   "execution_count": 2,
   "id": "adafe462-4ece-48cf-a45d-52d8e85af82a",
   "metadata": {},
   "outputs": [
    {
     "data": {
      "text/plain": [
       "'hello'"
      ]
     },
     "execution_count": 2,
     "metadata": {},
     "output_type": "execute_result"
    }
   ],
   "source": [
    "s=\"hello\"\n",
    "s.replace(s,\"a\")"
   ]
  },
  {
   "cell_type": "markdown",
   "id": "98c56495-5498-4bf8-8a8f-8cba94a3ae0a",
   "metadata": {},
   "source": [
    " **Reverse a string**"
   ]
  },
  {
   "cell_type": "code",
   "execution_count": 3,
   "id": "d8d3db93-36c9-4678-a73a-85bad770698e",
   "metadata": {},
   "outputs": [
    {
     "name": "stdin",
     "output_type": "stream",
     "text": [
      "Enter a string:  hello\n"
     ]
    },
    {
     "name": "stdout",
     "output_type": "stream",
     "text": [
      "olleh\n"
     ]
    }
   ],
   "source": [
    "s=input(\"Enter a string: \")\n",
    "rev_s=s[::-1]\n",
    "print(rev_s)"
   ]
  },
  {
   "cell_type": "markdown",
   "id": "5980cdf4-8996-440b-ba6d-6319f9363b05",
   "metadata": {},
   "source": [
    "**Remove the spaces in a string**"
   ]
  },
  {
   "cell_type": "code",
   "execution_count": 5,
   "id": "8334c24e-35fd-416c-87ee-3511644a7f64",
   "metadata": {},
   "outputs": [
    {
     "name": "stdin",
     "output_type": "stream",
     "text": [
      "Enter a string:  h e l l o\n"
     ]
    },
    {
     "data": {
      "text/plain": [
       "'hello'"
      ]
     },
     "execution_count": 5,
     "metadata": {},
     "output_type": "execute_result"
    }
   ],
   "source": [
    "s=input(\"Enter a string: \")\n",
    "s.replace(\" \",\"\")"
   ]
  },
  {
   "cell_type": "markdown",
   "id": "a3deb2a4-792c-4119-ba4d-c14213a58640",
   "metadata": {},
   "source": [
    "**Remove digits from string**"
   ]
  },
  {
   "cell_type": "code",
   "execution_count": 13,
   "id": "fea90f85-405b-447e-ae36-fde2d9c13d2b",
   "metadata": {},
   "outputs": [
    {
     "name": "stdin",
     "output_type": "stream",
     "text": [
      "Enter a string:  123hy\n"
     ]
    },
    {
     "name": "stdout",
     "output_type": "stream",
     "text": [
      "hy\n"
     ]
    }
   ],
   "source": [
    "s=input(\"Enter a string: \")\n",
    "digit=\"0123456789\"\n",
    "for digit in \"0123456789\":\n",
    "    s=s.replace(digit,\"\")\n",
    "print(s)"
   ]
  },
  {
   "cell_type": "markdown",
   "id": "018b9eff-aaaf-4ba5-9000-3dd54c82c2a9",
   "metadata": {},
   "source": [
    "**str1='banana' s='b@n@n@'**"
   ]
  },
  {
   "cell_type": "code",
   "execution_count": 15,
   "id": "932d64de-2730-48c4-b322-a862ae5a9b6a",
   "metadata": {},
   "outputs": [
    {
     "name": "stdout",
     "output_type": "stream",
     "text": [
      "b@n@n@\n"
     ]
    }
   ],
   "source": [
    "str1=\"banana\"\n",
    "str2=str1.replace(\"a\",\"@\")\n",
    "print(str2)"
   ]
  },
  {
   "cell_type": "code",
   "execution_count": null,
   "id": "7ec75f14-aec5-493d-93a4-81673b74b1e5",
   "metadata": {},
   "outputs": [],
   "source": []
  }
 ],
 "metadata": {
  "kernelspec": {
   "display_name": "Python [conda env:base] *",
   "language": "python",
   "name": "conda-base-py"
  },
  "language_info": {
   "codemirror_mode": {
    "name": "ipython",
    "version": 3
   },
   "file_extension": ".py",
   "mimetype": "text/x-python",
   "name": "python",
   "nbconvert_exporter": "python",
   "pygments_lexer": "ipython3",
   "version": "3.13.5"
  }
 },
 "nbformat": 4,
 "nbformat_minor": 5
}
