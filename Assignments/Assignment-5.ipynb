{
 "cells": [
  {
   "cell_type": "markdown",
   "id": "2362896a-03cf-4948-af3a-4528d5a670b2",
   "metadata": {},
   "source": [
    "**Assignment 5**"
   ]
  },
  {
   "cell_type": "markdown",
   "id": "6cec0f43-00eb-43d9-b20a-63940caaf3b3",
   "metadata": {},
   "source": [
    "**Write a program to check if a number entered by the user is even or odd.**"
   ]
  },
  {
   "cell_type": "code",
   "execution_count": 2,
   "id": "199ded73-ed8b-4485-b257-cd4fb9780323",
   "metadata": {},
   "outputs": [
    {
     "name": "stdin",
     "output_type": "stream",
     "text": [
      "Enter a number:  13\n"
     ]
    },
    {
     "name": "stdout",
     "output_type": "stream",
     "text": [
      "13 is a odd number\n"
     ]
    }
   ],
   "source": [
    "n=int(input(\"Enter a number: \"))\n",
    "if n%2==0:\n",
    "    print(f\"{n} is a even number\")\n",
    "else:\n",
    "    print(f\"{n} is a odd number\")\n",
    "    "
   ]
  },
  {
   "cell_type": "markdown",
   "id": "8769a994-c1f0-4e74-a986-73dfab895f97",
   "metadata": {},
   "source": [
    "**Write a program to check whether a number is positive, negative, or zero.**"
   ]
  },
  {
   "cell_type": "code",
   "execution_count": 4,
   "id": "b8ea7422-1a3e-4407-bf42-ddf53d39997c",
   "metadata": {},
   "outputs": [
    {
     "name": "stdin",
     "output_type": "stream",
     "text": [
      "Enter a number:  -98\n"
     ]
    },
    {
     "name": "stdout",
     "output_type": "stream",
     "text": [
      "-98 is a negative number\n"
     ]
    }
   ],
   "source": [
    "n=int(input(\"Enter a number: \"))\n",
    "if n>0:\n",
    "    print(f\"{n} is a positive number\")\n",
    "elif n==0:\n",
    "    print(f\"{n} equals to 0\")\n",
    "else:\n",
    "    print(f\"{n} is a negative number\")"
   ]
  },
  {
   "cell_type": "markdown",
   "id": "faf2fe10-6f03-4ad9-bac7-b3fca4b9ae42",
   "metadata": {},
   "source": [
    "**Write a program that takes two numbers and prints the larger one.**"
   ]
  },
  {
   "cell_type": "code",
   "execution_count": 6,
   "id": "cadc9ae0-9fe2-4d12-ae8f-2f820ea63ba3",
   "metadata": {},
   "outputs": [
    {
     "name": "stdin",
     "output_type": "stream",
     "text": [
      "Enter Number 1:  10\n",
      "Enter Number 2:  10\n"
     ]
    },
    {
     "name": "stdout",
     "output_type": "stream",
     "text": [
      "Both numbers are same\n"
     ]
    }
   ],
   "source": [
    "n1=int(input(\"Enter Number 1: \"))\n",
    "n2=int(input(\"Enter Number 2: \"))\n",
    "if n1>n2:\n",
    "    print(f\"The greater number is {n1}\")\n",
    "elif n2>n1:\n",
    "    print(f\"The greater number is {n2}\")\n",
    "else:\n",
    "    print(f\"Both numbers are same\")\n",
    "\n"
   ]
  },
  {
   "cell_type": "markdown",
   "id": "8f842588-2f22-4379-82f0-acee4375dafb",
   "metadata": {},
   "source": [
    "**Ask the user to enter their age and check if they are eligible to vote (age >= 18).**"
   ]
  },
  {
   "cell_type": "code",
   "execution_count": 8,
   "id": "65890005-2e69-4254-a6c1-ad5295f42ca4",
   "metadata": {},
   "outputs": [
    {
     "name": "stdin",
     "output_type": "stream",
     "text": [
      "Enter your age:  18\n"
     ]
    },
    {
     "name": "stdout",
     "output_type": "stream",
     "text": [
      "You are eligible for voting.\n"
     ]
    }
   ],
   "source": [
    "n=int(input(\"Enter your age: \"))\n",
    "if n>=18:\n",
    "    print(\"You are eligible for voting.\")\n",
    "else:\n",
    "    print(\"You are not eligible for voting.\")"
   ]
  },
  {
   "cell_type": "markdown",
   "id": "d9e040e3-da63-4822-93c6-80f0c46ec0ca",
   "metadata": {},
   "source": [
    "**Check if a number is divisible by both 5 and 11**"
   ]
  },
  {
   "cell_type": "code",
   "execution_count": 9,
   "id": "8dc11739-5d69-4203-8ef7-3106a8aa4ca2",
   "metadata": {},
   "outputs": [
    {
     "name": "stdin",
     "output_type": "stream",
     "text": [
      "Enter a number:  11\n"
     ]
    },
    {
     "name": "stdout",
     "output_type": "stream",
     "text": [
      "11 is NOT divisible by both 5 and 11.\n"
     ]
    }
   ],
   "source": [
    "n = int(input(\"Enter a number: \"))\n",
    "\n",
    "if n % 5 == 0 and n % 11 == 0:\n",
    "    print(f\"{n} is divisible by both 5 and 11.\")\n",
    "else:\n",
    "    print(f\"{n} is NOT divisible by both 5 and 11.\")"
   ]
  },
  {
   "cell_type": "markdown",
   "id": "af17f9bb-9c85-47ad-87f4-29cb919be37f",
   "metadata": {},
   "source": [
    "**Check if a number is divisible by both 3 and 5.**"
   ]
  },
  {
   "cell_type": "code",
   "execution_count": 10,
   "id": "e437c144-e15b-4ca8-b740-4e4a0794613b",
   "metadata": {},
   "outputs": [
    {
     "name": "stdin",
     "output_type": "stream",
     "text": [
      "Enter a number:  10\n"
     ]
    },
    {
     "name": "stdout",
     "output_type": "stream",
     "text": [
      "10 is NOT divisible by both 3 and 5\n"
     ]
    }
   ],
   "source": [
    "n=int(input(\"Enter a number: \"))\n",
    "if n%3==0 and n%5==0:\n",
    "    print(f\"{n} is divisible by both 3 and 5\")\n",
    "else:\n",
    "    print(f\"{n} is NOT divisible by both 3 and 5\")\n",
    "    "
   ]
  },
  {
   "cell_type": "markdown",
   "id": "dea2ab03-5ef5-4968-9c03-924274667825",
   "metadata": {},
   "source": [
    "**Take an amount as input. If it's a multiple of 100 and less than balance, print \"Withdrawal Successful\", else print reason for failure**"
   ]
  },
  {
   "cell_type": "code",
   "execution_count": null,
   "id": "3c0817d0-93ff-4536-b5aa-a011c8fadb9a",
   "metadata": {},
   "outputs": [],
   "source": [
    "balance=12000\n",
    "amount=int(input(\"Enter your amount: \"))\n",
    "if amount%100==0:\n",
    "    if amount<balance:\n",
    "        print(\"Withdrawal Successful\")\n",
    "        balance-=amount\n",
    "    else:\n",
    "        print(\"Insufficient funds\")\n",
    "else:\n",
    "    print(\"Please enter multiple of 100\")"
   ]
  }
 ],
 "metadata": {
  "kernelspec": {
   "display_name": "Python [conda env:base] *",
   "language": "python",
   "name": "conda-base-py"
  },
  "language_info": {
   "codemirror_mode": {
    "name": "ipython",
    "version": 3
   },
   "file_extension": ".py",
   "mimetype": "text/x-python",
   "name": "python",
   "nbconvert_exporter": "python",
   "pygments_lexer": "ipython3",
   "version": "3.13.5"
  }
 },
 "nbformat": 4,
 "nbformat_minor": 5
}
