{
 "cells": [
  {
   "cell_type": "markdown",
   "id": "f99dfd65-25e3-449e-b4ed-5c6db1172ad2",
   "metadata": {},
   "source": [
    "**Assignment 12**"
   ]
  },
  {
   "cell_type": "markdown",
   "id": "2173fcfc-29dd-4a51-9caa-32edd38acc70",
   "metadata": {},
   "source": [
    "**Intilaization**"
   ]
  },
  {
   "cell_type": "code",
   "execution_count": 3,
   "id": "7f182fbc-ea1d-4c35-a8d1-50157ffcaa3d",
   "metadata": {},
   "outputs": [
    {
     "data": {
      "text/plain": [
       "[1, 2, 3, '4', 5, True, ['a', 'b', 'c']]"
      ]
     },
     "execution_count": 3,
     "metadata": {},
     "output_type": "execute_result"
    }
   ],
   "source": [
    "L=[1,2,3,\"4\",5,True,['a','b','c']]\n",
    "L"
   ]
  },
  {
   "cell_type": "markdown",
   "id": "b936b5d5-4fdb-43e2-97b4-604868684c3c",
   "metadata": {},
   "source": [
    "**Inbuilt functions: type/print/len/max/min/sum/sorted/reveresd**"
   ]
  },
  {
   "cell_type": "code",
   "execution_count": 14,
   "id": "1b574605-2951-43a4-9e39-fcd68257f32d",
   "metadata": {},
   "outputs": [
    {
     "data": {
      "text/plain": [
       "['__add__',\n",
       " '__class__',\n",
       " '__class_getitem__',\n",
       " '__contains__',\n",
       " '__delattr__',\n",
       " '__delitem__',\n",
       " '__dir__',\n",
       " '__doc__',\n",
       " '__eq__',\n",
       " '__format__',\n",
       " '__ge__',\n",
       " '__getattribute__',\n",
       " '__getitem__',\n",
       " '__getstate__',\n",
       " '__gt__',\n",
       " '__hash__',\n",
       " '__iadd__',\n",
       " '__imul__',\n",
       " '__init__',\n",
       " '__init_subclass__',\n",
       " '__iter__',\n",
       " '__le__',\n",
       " '__len__',\n",
       " '__lt__',\n",
       " '__mul__',\n",
       " '__ne__',\n",
       " '__new__',\n",
       " '__reduce__',\n",
       " '__reduce_ex__',\n",
       " '__repr__',\n",
       " '__reversed__',\n",
       " '__rmul__',\n",
       " '__setattr__',\n",
       " '__setitem__',\n",
       " '__sizeof__',\n",
       " '__str__',\n",
       " '__subclasshook__',\n",
       " 'append',\n",
       " 'clear',\n",
       " 'copy',\n",
       " 'count',\n",
       " 'extend',\n",
       " 'index',\n",
       " 'insert',\n",
       " 'pop',\n",
       " 'remove',\n",
       " 'reverse',\n",
       " 'sort']"
      ]
     },
     "execution_count": 14,
     "metadata": {},
     "output_type": "execute_result"
    }
   ],
   "source": [
    "dir([])"
   ]
  },
  {
   "cell_type": "code",
   "execution_count": 17,
   "id": "88d0a2f2-35c6-4794-ab03-28b92faba99f",
   "metadata": {},
   "outputs": [
    {
     "name": "stdout",
     "output_type": "stream",
     "text": [
      "<class 'list'>\n",
      "[1, 2, 3, 4, 5, 6, 7, 9]\n",
      "8\n",
      "9\n",
      "1\n",
      "37\n",
      "[1, 2, 3, 4, 5, 6, 7, 9]\n",
      "<list_reverseiterator object at 0x000002473B3F90F0>\n"
     ]
    }
   ],
   "source": [
    "l=[1,2,3,4,5,6,7,9]\n",
    "print(type(l))\n",
    "print(l)\n",
    "print(len(l))\n",
    "print(max(l))\n",
    "print(min(l))\n",
    "print(sum(l))\n",
    "print(sorted(l))\n",
    "print(reversed(l))"
   ]
  },
  {
   "cell_type": "markdown",
   "id": "26cdd8b1-5c08-467a-90ed-02d050c3e212",
   "metadata": {},
   "source": [
    "**Concatenation**"
   ]
  },
  {
   "cell_type": "code",
   "execution_count": 24,
   "id": "9a49c823-07ee-47fa-88ca-90860a3b3a20",
   "metadata": {},
   "outputs": [
    {
     "name": "stdout",
     "output_type": "stream",
     "text": [
      "[1, 2, 3, 4, 5, 6, 7, 8, 9, 0, 'a', 'b']\n",
      "[1, 2, 3, 4, 5, 6, 7, 8, 9, 0, 1, 2, 3, 4, 5, 6, 7, 8, 9, 0]\n"
     ]
    }
   ],
   "source": [
    "l1=[1,2,3,4,5,6,7,8,9,0]\n",
    "l2=['a','b']\n",
    "l3=[2,3,4,5]\n",
    "print(l1+l2)\n",
    "print(l1*2)\n",
    "#print(l1/l3)\n",
    "#print(l1-l2)"
   ]
  },
  {
   "cell_type": "markdown",
   "id": "42e61dee-dfc3-4b7f-87c4-e5ca41844617",
   "metadata": {},
   "source": [
    "**index range vs in**"
   ]
  },
  {
   "cell_type": "code",
   "execution_count": 25,
   "id": "a07d10d4-0759-4a3e-af41-3b39c19045cc",
   "metadata": {},
   "outputs": [
    {
     "name": "stdout",
     "output_type": "stream",
     "text": [
      "0 apple\n",
      "1 banana\n",
      "2 cherry\n"
     ]
    }
   ],
   "source": [
    "fruits = [\"apple\", \"banana\", \"cherry\"]\n",
    "\n",
    "for i in range(len(fruits)):\n",
    "    print(i, fruits[i])"
   ]
  },
  {
   "cell_type": "code",
   "execution_count": 28,
   "id": "f797ea86-31f0-40d4-aa76-437788c465ac",
   "metadata": {},
   "outputs": [
    {
     "name": "stdout",
     "output_type": "stream",
     "text": [
      "apple\n",
      "banana\n",
      "cherry\n"
     ]
    }
   ],
   "source": [
    "fruits = [\"apple\", \"banana\", \"cherry\"]\n",
    "\n",
    "for i in fruits:\n",
    "    print(i)"
   ]
  },
  {
   "cell_type": "markdown",
   "id": "037cf334-18a5-48a7-8670-878df8effbb5",
   "metadata": {},
   "source": [
    "**mutable vs immutable**"
   ]
  },
  {
   "cell_type": "markdown",
   "id": "dfddd63a-c88c-47d7-9cfd-73502d18bdc6",
   "metadata": {},
   "source": [
    "**List is mutable**"
   ]
  },
  {
   "cell_type": "code",
   "execution_count": 30,
   "id": "be88be0a-60e9-4c9a-840f-7a82ee904612",
   "metadata": {},
   "outputs": [
    {
     "name": "stdout",
     "output_type": "stream",
     "text": [
      "[0, 1, 'Virat', 3, 4, 5, 6]\n"
     ]
    }
   ],
   "source": [
    "l=[0,1,2,3,4,5,6]\n",
    "l[2]=\"Virat\"\n",
    "print(l)"
   ]
  },
  {
   "cell_type": "markdown",
   "id": "5b8c88ea-448c-4af8-92db-36b3334100d1",
   "metadata": {},
   "source": [
    "**slice()**"
   ]
  },
  {
   "cell_type": "code",
   "execution_count": 35,
   "id": "6afb7503-910a-4e52-a9d3-09dad02754ce",
   "metadata": {},
   "outputs": [
    {
     "data": {
      "text/plain": [
       "([2, 4, 6], [], [8, 6, 4], [8, 6])"
      ]
     },
     "execution_count": 35,
     "metadata": {},
     "output_type": "execute_result"
    }
   ],
   "source": [
    "l=[1,2,3,4,5,6,7,8,9]\n",
    "l[1:6:2],l[-2:1:2],l[-2:1:-2],l[-2:-6:-2]"
   ]
  },
  {
   "cell_type": "code",
   "execution_count": null,
   "id": "fb8a5f74-db45-4013-bdd4-755a67ccd408",
   "metadata": {},
   "outputs": [],
   "source": []
  }
 ],
 "metadata": {
  "kernelspec": {
   "display_name": "Python [conda env:base] *",
   "language": "python",
   "name": "conda-base-py"
  },
  "language_info": {
   "codemirror_mode": {
    "name": "ipython",
    "version": 3
   },
   "file_extension": ".py",
   "mimetype": "text/x-python",
   "name": "python",
   "nbconvert_exporter": "python",
   "pygments_lexer": "ipython3",
   "version": "3.13.5"
  }
 },
 "nbformat": 4,
 "nbformat_minor": 5
}
