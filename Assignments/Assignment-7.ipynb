{
 "cells": [
  {
   "cell_type": "markdown",
   "id": "a5f64059-b849-444f-9f49-d06015b1e219",
   "metadata": {},
   "source": [
    "**Assignment 7**"
   ]
  },
  {
   "cell_type": "markdown",
   "id": "14a29a77-5252-46a2-a845-a84821059844",
   "metadata": {},
   "source": [
    "**Write a program that asks the user to enter a length in centimetres. If the user enters a negative length, the program should tell the user that the entry is invalid. Otherwise,the program should convert the length to inches and print out the result. There are 2.54 centimetres in an inch.**"
   ]
  },
  {
   "cell_type": "code",
   "execution_count": 2,
   "id": "aedf4dd3-9cec-4b7d-a094-920916e8b747",
   "metadata": {},
   "outputs": [
    {
     "name": "stdin",
     "output_type": "stream",
     "text": [
      "Enter a length in centimeter:  12\n"
     ]
    },
    {
     "name": "stdout",
     "output_type": "stream",
     "text": [
      "12.0cm is 4.724409448818897inch\n"
     ]
    }
   ],
   "source": [
    "centi=float(input(\"Enter a length in centimeter: \"))\n",
    "\n",
    "if centi<0:\n",
    "    print(\"You entered invalid number\")\n",
    "else:\n",
    "    inch=centi/2.54\n",
    "    print(f\"{centi}cm is {inch}inch\")"
   ]
  },
  {
   "cell_type": "markdown",
   "id": "ca167e49-93c8-4ead-a86e-a676608edc24",
   "metadata": {},
   "source": [
    "**Ask the user for a temperature. Then ask them what units, Celsius or Fahrenheit, the temperature is in. Your program should convert the temperature to the other unit. The conversions are F = 9 5 C +32 and C = 5 9 (F − 32).**"
   ]
  },
  {
   "cell_type": "code",
   "execution_count": 4,
   "id": "e0d30812-bff2-441e-845d-ea045762b733",
   "metadata": {},
   "outputs": [
    {
     "name": "stdin",
     "output_type": "stream",
     "text": [
      "Enter temprature:  12\n",
      "whats the unit Celsius (c) or Fahrenheit (f) :  c\n"
     ]
    },
    {
     "name": "stdout",
     "output_type": "stream",
     "text": [
      "12.0 degree celicius is 53.6 farenite\n"
     ]
    }
   ],
   "source": [
    "temp=float(input(\"Enter temprature: \"))\n",
    "units=input(\"whats the unit Celsius (c) or Fahrenheit (f) : \")\n",
    "if units=='c':\n",
    "    res=(9/5)*temp+32\n",
    "    print(f\"{temp} degree celicius is {res} farenite\")\n",
    "else:\n",
    "    res=5/9*(temp-32)\n",
    "    print(f\"{temp} degree farhenite is {res} degree  celsius\")\n",
    "    "
   ]
  },
  {
   "cell_type": "markdown",
   "id": "2f23d209-088f-4eb6-9856-c34f8e4c0ea1",
   "metadata": {},
   "source": [
    "**Ask the user to enter a temperature in Celsius. The program should print a message based on the temperature:\n",
    "• If the temperature is less than -273.15, print that the temperature is invalid because it is\n",
    "below absolute zero.\n",
    "• If it is exactly -273.15, print that the temperature is absolute 0.\n",
    "• If the temperature is between -273.15 and 0, print that the temperature is below\n",
    "freezing. • If it is 0, print that the temperature is at the freezing point.\n",
    "• If it is between 0 and 100, print that the temperature is in the normal\n",
    "range. • If it is 100, print that the temperature is at the boiling point.\n",
    "• If it is above 100, print that the temperature is above the boiling point.**"
   ]
  },
  {
   "cell_type": "code",
   "execution_count": 6,
   "id": "62cef48b-2329-4474-9a3a-be17902edaf5",
   "metadata": {},
   "outputs": [
    {
     "name": "stdin",
     "output_type": "stream",
     "text": [
      "Enter the temperature in Celsius:  12\n"
     ]
    },
    {
     "name": "stdout",
     "output_type": "stream",
     "text": [
      "The temperature is in the normal range.\n"
     ]
    }
   ],
   "source": [
    "temperature = float(input(\"Enter the temperature in Celsius: \"))\n",
    "if temperature < -273.15:\n",
    "    print(\"The temperature is invalid because it is below absolute zero.\")\n",
    "elif temperature == -273.15:\n",
    "    print(\"The temperature is absolute zero.\")\n",
    "elif -273.15 < temperature < 0:\n",
    "    print(\"The temperature is below freezing.\")\n",
    "elif temperature == 0:\n",
    "    print(\"The temperature is at the freezing point.\")\n",
    "elif 0 < temperature < 100:\n",
    "    print(\"The temperature is in the normal range.\")\n",
    "elif temperature == 100:\n",
    "    print(\"The temperature is at the boiling point.\")\n",
    "else:\n",
    "    print(\"The temperature is above the boiling point.\")"
   ]
  },
  {
   "cell_type": "markdown",
   "id": "720e193e-1e02-446c-a656-996576ae60b0",
   "metadata": {},
   "source": [
    "**Write a program that asks the user how many credits they have taken. If they have taken 23 or less, print that the student is a freshman. If they have taken between 24 and 53, print that they are asophomore. The range for juniors is 54 to 83, and for seniors it is 84 and over.**"
   ]
  },
  {
   "cell_type": "code",
   "execution_count": null,
   "id": "ff595d34-fec0-43e8-a7bb-388c6e469ae0",
   "metadata": {},
   "outputs": [],
   "source": [
    "credits = int(input(\"Enter the number of credits you have taken: \"))\n",
    "\n",
    "if credits <= 23:\n",
    "    print(\"You are a freshman.\")\n",
    "elif 24 <= credits <= 53:\n",
    "    print(\"You are a sophomore.\")\n",
    "elif 54 <= credits <= 83:\n",
    "    print(\"You are a junior.\")\n",
    "else:\n",
    "    print(\"You are a senior.\")"
   ]
  },
  {
   "cell_type": "markdown",
   "id": "8d0161d7-85f3-4e20-971d-89ffe333c882",
   "metadata": {},
   "source": [
    "**Generate a random number between 1 and 10. Ask the user to guess the number and print a message based on whether they get it right or not.**"
   ]
  },
  {
   "cell_type": "code",
   "execution_count": null,
   "id": "9aa4d10e-d1c2-4a24-a312-21f56b04a1c4",
   "metadata": {},
   "outputs": [],
   "source": [
    "temperature = float(input(\"Enter the temperature in Celsius: \"))\n",
    "\n",
    "if temperature < -273.15:\n",
    "    print(\"The temperature is invalid because it is below absolute zero.\")\n",
    "elif temperature == -273.15:\n",
    "    print(\"The temperature is absolute zero.\")\n",
    "elif -273.15 < temperature < 0:\n",
    "    print(\"The temperature is below freezing.\")\n",
    "elif temperature == 0:\n",
    "    print(\"The temperature is at the freezing point.\")\n",
    "elif 0 < temperature < 100:\n",
    "    print(\"The temperature is in the normal range.\")\n",
    "elif temperature == 100:\n",
    "    print(\"The temperature is at the boiling point.\")\n",
    "else:\n",
    "    print(\"The temperature is above the boiling point.\")\n"
   ]
  },
  {
   "cell_type": "markdown",
   "id": "c27cf39f-153d-46a5-933f-6da9534ed169",
   "metadata": {},
   "source": [
    "**A store charges $12 per item if you buy less than 10 items. If you buy between 10 and 99 items, the cost is $10 per item. If you buy 100 or more items, the cost is $7 per item. Write a program that asks the user how many items they are buying and prints the total cost.**"
   ]
  },
  {
   "cell_type": "code",
   "execution_count": 7,
   "id": "27b53efb-c20a-4751-b6e1-94f50d556850",
   "metadata": {},
   "outputs": [
    {
     "name": "stdin",
     "output_type": "stream",
     "text": [
      "Enter the number of items you are buying:  3\n"
     ]
    },
    {
     "name": "stdout",
     "output_type": "stream",
     "text": [
      "Total cost: $36\n"
     ]
    }
   ],
   "source": [
    "quantity = int(input(\"Enter the number of items you are buying: \"))\n",
    "\n",
    "if quantity < 10:\n",
    "    cost = 12\n",
    "elif 10 <= quantity <= 99:\n",
    "    cost = 10\n",
    "else:\n",
    "    cost = 7\n",
    "\n",
    "total = quantity * cost\n",
    "print(f\"Total cost: ${total}\")"
   ]
  },
  {
   "cell_type": "markdown",
   "id": "b63d5bbe-82c5-403e-853f-c68996452121",
   "metadata": {},
   "source": [
    "**Write a program that asks the user for two numbers and prints Close if the numbers are within .001of each other and Not close otherwise.**"
   ]
  },
  {
   "cell_type": "code",
   "execution_count": null,
   "id": "a8ed0e61-7b7a-4e14-8544-48d3cc07f3eb",
   "metadata": {},
   "outputs": [],
   "source": [
    "num1 = float(input(\"Enter the first number: \"))\n",
    "num2 = float(input(\"Enter the second number: \"))\n",
    "\n",
    "if abs(num1 - num2) <= 0.001:\n",
    "    print(\"Close\")\n",
    "else:\n",
    "    print(\"Not close\")"
   ]
  },
  {
   "cell_type": "markdown",
   "id": "fac41a0e-db27-45ae-9bc4-3c6985576e24",
   "metadata": {},
   "source": [
    "**A year is a leap year if it is divisible by 4, except that years divisible by 100 are not leap years unless they are also divisible by 400. Write a program that asks the user for a year and prints out whether it is a leap year or not.**"
   ]
  },
  {
   "cell_type": "code",
   "execution_count": null,
   "id": "0bb2d95f-41a3-4d35-8cf8-b03312e0baca",
   "metadata": {},
   "outputs": [],
   "source": [
    "year = int(input(\"Enter a year: \"))\n",
    "\n",
    "if (year % 4 == 0 and year % 100 != 0) or (year % 400 == 0):\n",
    "    print(\"Leap year\")\n",
    "else:\n",
    "    print(\"Not a leap year\")"
   ]
  },
  {
   "cell_type": "markdown",
   "id": "2b5f2ff5-4085-4c9c-b878-1566337de2ac",
   "metadata": {},
   "source": [
    "**Write a program that asks the user to enter a number and prints out all the divisors of that number. [Hint: the % operator is used to tell if a number is divisible by something.]**"
   ]
  },
  {
   "cell_type": "code",
   "execution_count": null,
   "id": "c07204a9-4880-4705-a594-a59433bc3bb0",
   "metadata": {},
   "outputs": [],
   "source": [
    "num = int(input(\"Enter a number: \"))\n",
    "\n",
    "if num % 1 == 0:\n",
    "    print(1)\n",
    "if num % 2 == 0:\n",
    "    print(2)\n",
    "if num % 3 == 0:\n",
    "    print(3)\n",
    "if num % 4 == 0:\n",
    "    print(4)\n",
    "if num % 5 == 0:\n",
    "    print(5)\n",
    "if num % 6 == 0:\n",
    "    print(6)\n",
    "if num % 7 == 0:\n",
    "    print(7)\n",
    "if num % 8 == 0:\n",
    "    print(8)\n",
    "if num % 9 == 0:\n",
    "    print(9)\n",
    "if num % 10 == 0:\n",
    "    print(10)\n",
    "if num % 11 == 0:\n",
    "    print(11)\n",
    "if num % 12 == 0:\n",
    "    print(12)\n",
    "if num % 13 == 0:\n",
    "    print(13)\n",
    "if num % 14 == 0:\n",
    "    print(14)\n",
    "if num % 15 == 0:\n",
    "    print(15)\n",
    "if num % 16 == 0:\n",
    "    print(16)\n",
    "if num % 17 == 0:\n",
    "    print(17)\n",
    "if num % 18 == 0:\n",
    "    print(18)\n",
    "if num % 19 == 0:\n",
    "    print(19)\n",
    "if num % 20 == 0:\n",
    "    print(20)"
   ]
  },
  {
   "cell_type": "markdown",
   "id": "e0c4ce6c-580a-419f-ba6d-2120e3998d26",
   "metadata": {},
   "source": [
    "**Write a program that asks the user for an hour between 1 and 12, asks them to enter am or pm, and asks them how many hours into the future they want to go.Print out what the hour will be that many hours into the future, printing am or pm as appropriate. An example is shown below.\n",
    "Enter hour: 8\n",
    "am (1) or pm (2)? 1\n",
    "How many hours ahead? 5\n",
    "New hour: 1 pm**"
   ]
  },
  {
   "cell_type": "code",
   "execution_count": null,
   "id": "595d537e-3b91-4e8c-90ad-b38474d0534d",
   "metadata": {},
   "outputs": [],
   "source": [
    "hour = int(input(\"Enter hour (1-12): \"))\n",
    "period = int(input(\"am (1) or pm (2)? \"))\n",
    "ahead = int(input(\"How many hours ahead? \"))\n",
    "\n",
    "total_hours = hour + ahead\n",
    "period_flips = (total_hours - 1) // 12\n",
    "new_hour = total_hours % 12\n",
    "if new_hour == 0:\n",
    "    new_hour = 12\n",
    "\n",
    "if period_flips % 2 == 1:\n",
    "    period = 2 if period == 1 else 1\n",
    "\n",
    "new_period = \"am\" if period == 1 else \"pm\"\n",
    "print(f\"New hour: {new_hour} {new_period}\")"
   ]
  }
 ],
 "metadata": {
  "kernelspec": {
   "display_name": "Python [conda env:base] *",
   "language": "python",
   "name": "conda-base-py"
  },
  "language_info": {
   "codemirror_mode": {
    "name": "ipython",
    "version": 3
   },
   "file_extension": ".py",
   "mimetype": "text/x-python",
   "name": "python",
   "nbconvert_exporter": "python",
   "pygments_lexer": "ipython3",
   "version": "3.13.5"
  }
 },
 "nbformat": 4,
 "nbformat_minor": 5
}
