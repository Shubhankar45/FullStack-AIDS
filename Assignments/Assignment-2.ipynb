{
 "cells": [
  {
   "cell_type": "markdown",
   "id": "7d6a92f4-b815-46ab-9c2d-eaf9c8a2e012",
   "metadata": {},
   "source": [
    "**Assignment 2**"
   ]
  },
  {
   "cell_type": "markdown",
   "id": "6c0924a1-bca6-4ce1-91a6-b61b5b55d4d4",
   "metadata": {},
   "source": [
    "**Write a program ask the user take two number print subtraction multiplication and division**\n"
   ]
  },
  {
   "cell_type": "code",
   "execution_count": null,
   "id": "77982bfb-f567-4efb-912a-809b2343b3f1",
   "metadata": {},
   "outputs": [
    {
     "name": "stdout",
     "output_type": "stream",
     "text": [
      "Enter First Number:  11\n",
      "Enter Second Number:  11\n"
     ]
    },
    {
     "name": "stdout",
     "output_type": "stream",
     "text": [
      "0\n",
      "121\n",
      "1.0\n"
     ]
    }
   ],
   "source": [
    "n1=eval(input(\"Enter First Number: \"))\n",
    "n2=eval(input(\"Enter Second Number: \"))\n",
    "print(n1-n2)\n",
    "print(n1*n2)\n",
    "print(n1/n2)"
   ]
  },
  {
   "cell_type": "markdown",
   "id": "615a129d-8fc9-4ede-96df-40b314a06d91",
   "metadata": {},
   "source": [
    "**Write a program ask the user take the radius find the area of circle**"
   ]
  },
  {
   "cell_type": "code",
   "execution_count": null,
   "id": "b181c3f9-834a-478d-8756-ea894dc82c03",
   "metadata": {},
   "outputs": [
    {
     "name": "stdout",
     "output_type": "stream",
     "text": [
      "Enter radius of a circle:  4\n"
     ]
    },
    {
     "name": "stdout",
     "output_type": "stream",
     "text": [
      "50.24\n"
     ]
    }
   ],
   "source": [
    "r=eval(input(\"Enter radius of a circle: \"))\n",
    "pi=3.14\n",
    "print(pi*r**2)"
   ]
  },
  {
   "cell_type": "markdown",
   "id": "cf2d1d89-01ad-44ce-91a6-5fc2948f2625",
   "metadata": {},
   "source": [
    "**Write a program ask the user take height and breadth find the area of traingle**"
   ]
  },
  {
   "cell_type": "code",
   "execution_count": null,
   "id": "f48de9fa-58eb-47a0-9e94-02efffe0ae50",
   "metadata": {},
   "outputs": [
    {
     "name": "stdout",
     "output_type": "stream",
     "text": [
      "Enter height of triangle:  12\n",
      "Enter width of triangle:  14\n"
     ]
    },
    {
     "name": "stdout",
     "output_type": "stream",
     "text": [
      "Area of a triangle is 84.0\n"
     ]
    }
   ],
   "source": [
    "h=eval(input(\"Enter height of triangle: \"))\n",
    "w=eval(input(\"Enter width of triangle: \"))\n",
    "print(f\"Area of a triangle is {0.5*h*w}\")"
   ]
  },
  {
   "cell_type": "markdown",
   "id": "e0ffb403-db9e-4323-b3c3-cec1e35d3fb4",
   "metadata": {},
   "source": [
    "**Write a program ask the user take 3 numbers find the average**"
   ]
  },
  {
   "cell_type": "code",
   "execution_count": null,
   "id": "6e826d3a-0732-430f-8dca-9d32162c0078",
   "metadata": {},
   "outputs": [
    {
     "name": "stdout",
     "output_type": "stream",
     "text": [
      "Enter number 1:  10\n",
      "Enter number 2:  15\n",
      "Enter number 3:  20\n"
     ]
    },
    {
     "name": "stdout",
     "output_type": "stream",
     "text": [
      "Average of three no. is 15.0\n"
     ]
    }
   ],
   "source": [
    "n1=eval(input(\"Enter number 1: \"))\n",
    "n2=eval(input(\"Enter number 2: \"))\n",
    "n3=eval(input(\"Enter number 3: \"))\n",
    "print(f\"Average of three no. is {(n1+n2+n3)/3}\")"
   ]
  },
  {
   "cell_type": "markdown",
   "id": "bb51797a-03ac-4686-86dc-8901080ebb0b",
   "metadata": {},
   "source": [
    " **Write a program ask the user take the bill amount and tip anount calculate total bill**"
   ]
  },
  {
   "cell_type": "code",
   "execution_count": null,
   "id": "fab3a618-5309-4313-b88e-f778bc1c6ac2",
   "metadata": {},
   "outputs": [
    {
     "name": "stdout",
     "output_type": "stream",
     "text": [
      "Enter bill amount:  10\n",
      "Enter tip amount:  2\n"
     ]
    },
    {
     "name": "stdout",
     "output_type": "stream",
     "text": [
      "Total amount is 12 \n"
     ]
    }
   ],
   "source": [
    "n1=eval(input(\"Enter bill amount: \"))\n",
    "n2=eval(input(\"Enter tip amount: \"))\n",
    "print(f\"Total amount is {n1+n2} \")"
   ]
  },
  {
   "cell_type": "markdown",
   "id": "c9fb6f12-97b7-4dab-87b6-11495790245d",
   "metadata": {},
   "source": [
    "**Write a program ask the user take the salary, percetage of tax calculate tax amount**"
   ]
  },
  {
   "cell_type": "code",
   "execution_count": null,
   "id": "acda71f9-236d-4568-8982-21d8554ad6a9",
   "metadata": {},
   "outputs": [
    {
     "name": "stdout",
     "output_type": "stream",
     "text": [
      "Enter your salary:  10\n",
      "Enter percentage of tax:  2\n"
     ]
    },
    {
     "name": "stdout",
     "output_type": "stream",
     "text": [
      "Tax amount is 0.2 \n"
     ]
    }
   ],
   "source": [
    "n1=eval(input(\"Enter your salary: \"))\n",
    "n2=eval(input(\"Enter percentage of tax: \"))\n",
    "print(f\"Tax amount is {n1*(n2/100)} \")"
   ]
  },
  {
   "cell_type": "markdown",
   "id": "059384fb-9beb-4c83-ad5b-e4505bbe6f08",
   "metadata": {},
   "source": [
    "**Write a program ask the user take the value in dollar convert into rupees**"
   ]
  },
  {
   "cell_type": "code",
   "execution_count": null,
   "id": "89f58028-16da-4f18-b7f8-74f768324f22",
   "metadata": {},
   "outputs": [
    {
     "name": "stdout",
     "output_type": "stream",
     "text": [
      "Enter in dollar:  10\n"
     ]
    },
    {
     "name": "stdout",
     "output_type": "stream",
     "text": [
      "10 Dollar is 872.0 rupees\n"
     ]
    }
   ],
   "source": [
    "n1=eval(input(\"Enter in dollar: \"))\n",
    "print(f\"{n1} Dollar is {n1*87.20} rupees\")"
   ]
  },
  {
   "cell_type": "markdown",
   "id": "b92b28dd-4eb4-41ff-b7b9-7a0dea1cbac3",
   "metadata": {},
   "source": [
    "**Write a program ask the user take weight in kgs convert into pounds  1kg=2.2pounds**"
   ]
  },
  {
   "cell_type": "code",
   "execution_count": null,
   "id": "c2220782-72b3-4ab2-b7b4-28f535dfdb17",
   "metadata": {},
   "outputs": [
    {
     "name": "stdout",
     "output_type": "stream",
     "text": [
      "Enter in weight in kgs:  10\n"
     ]
    },
    {
     "name": "stdout",
     "output_type": "stream",
     "text": [
      "10 KGS is 22.0 Pounds\n"
     ]
    }
   ],
   "source": [
    "n1=eval(input(\"Enter in weight in kgs: \"))\n",
    "print(f\"{n1} KGS is {n1*2.2} Pounds\")"
   ]
  }
 ],
 "metadata": {
  "kernelspec": {
   "display_name": "Python [conda env:base] *",
   "language": "python",
   "name": "conda-base-py"
  },
  "language_info": {
   "codemirror_mode": {
    "name": "ipython",
    "version": 3
   },
   "file_extension": ".py",
   "mimetype": "text/x-python",
   "name": "python",
   "nbconvert_exporter": "python",
   "pygments_lexer": "ipython3",
   "version": "3.13.5"
  }
 },
 "nbformat": 4,
 "nbformat_minor": 5
}
