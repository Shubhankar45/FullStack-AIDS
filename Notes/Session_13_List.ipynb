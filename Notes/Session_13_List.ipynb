{
 "cells": [
  {
   "cell_type": "markdown",
   "id": "0c028c61-6ce4-443e-9690-99d2cd74abda",
   "metadata": {},
   "source": [
    "**List**"
   ]
  },
  {
   "cell_type": "code",
   "execution_count": 71,
   "id": "6e6dae46-50f6-4ee0-8ff8-e8b4301e2fe6",
   "metadata": {},
   "outputs": [
    {
     "name": "stdout",
     "output_type": "stream",
     "text": [
      "4\n",
      "100\n",
      "40\n",
      "10\n",
      "[5, 7, 8, 9]\n",
      "[9, 8, 7, 5]\n",
      "[8, 9, 7, 5]\n"
     ]
    }
   ],
   "source": [
    "l1=[10,20,30,40]\n",
    "l2=['A','B','C']\n",
    "l3=[10,20,30,'A','B','C']\n",
    "l4=[10,'A',20.5,True,10+20j]\n",
    "l5=[[10,20,30]]\n",
    "l6=[10,10,10]\n",
    "l7=[]\n",
    "#list can take all data types \n",
    "#list are heterogeneous\n",
    "#duplicates are available\n",
    "#list in a list also possible\n",
    "\n",
    "#len all\n",
    "#sum l1 \n",
    "#max l1 l2 \n",
    "#min \n",
    "#sorted\n",
    "#reversed\n",
    "\n",
    "print(len(l1))\n",
    "print(sum(l1))\n",
    "print(max(l1))\n",
    "print(min(l1))\n",
    "l1=[5,7,9,8]\n",
    "print(sorted(l1))\n",
    "print(sorted(l1,reverse=True))\n",
    "print(list(reversed(l1)))\n",
    "#print(reversed(l1,reversed='true'))"
   ]
  },
  {
   "cell_type": "markdown",
   "id": "10ea949b-b4ad-483e-8aa6-2baa5e42f77c",
   "metadata": {},
   "source": [
    "**index**"
   ]
  },
  {
   "cell_type": "code",
   "execution_count": 72,
   "id": "409d1af0-bf01-4539-9d92-4db53a3b16ab",
   "metadata": {},
   "outputs": [],
   "source": [
    "l3=[10,20,30,'A','B','C']\n",
    "\n"
   ]
  },
  {
   "cell_type": "code",
   "execution_count": 73,
   "id": "9de7379f-91d2-465c-ae0e-ce69b6fe66a5",
   "metadata": {},
   "outputs": [
    {
     "data": {
      "text/plain": [
       "'Banana'"
      ]
     },
     "execution_count": 73,
     "metadata": {},
     "output_type": "execute_result"
    }
   ],
   "source": [
    "l=['Apple','Banana']\n",
    "l[1]\n"
   ]
  },
  {
   "cell_type": "code",
   "execution_count": 74,
   "id": "2140a24b-fac1-430d-a678-447639023ce3",
   "metadata": {},
   "outputs": [
    {
     "data": {
      "text/plain": [
       "'Banana'"
      ]
     },
     "execution_count": 74,
     "metadata": {},
     "output_type": "execute_result"
    }
   ],
   "source": [
    "l=['Apple',['Banana']]\n",
    "l[1][0]"
   ]
  },
  {
   "cell_type": "code",
   "execution_count": 75,
   "id": "3eb8c459-e457-4796-b48b-8bbd98eb26c5",
   "metadata": {},
   "outputs": [
    {
     "name": "stdout",
     "output_type": "stream",
     "text": [
      "2\n"
     ]
    },
    {
     "data": {
      "text/plain": [
       "'Cherry'"
      ]
     },
     "execution_count": 75,
     "metadata": {},
     "output_type": "execute_result"
    }
   ],
   "source": [
    "l=['Apple',['Banana','Cherry']]\n",
    "print(len(l))\n",
    "l[1][1]"
   ]
  },
  {
   "cell_type": "code",
   "execution_count": 76,
   "id": "18a31629-b2c6-40e4-a537-c0a570480487",
   "metadata": {},
   "outputs": [
    {
     "name": "stdout",
     "output_type": "stream",
     "text": [
      "2\n"
     ]
    },
    {
     "data": {
      "text/plain": [
       "'Cherry'"
      ]
     },
     "execution_count": 76,
     "metadata": {},
     "output_type": "execute_result"
    }
   ],
   "source": [
    "l=['Apple',['Banana',['Cherry']]]\n",
    "print(len(l))\n",
    "l[1][1][0]"
   ]
  },
  {
   "cell_type": "code",
   "execution_count": 77,
   "id": "6e9c0cff-4cac-4a04-a983-650d3ff0faa9",
   "metadata": {},
   "outputs": [
    {
     "data": {
      "text/plain": [
       "'VK'"
      ]
     },
     "execution_count": 77,
     "metadata": {},
     "output_type": "execute_result"
    }
   ],
   "source": [
    "l=['Orange',['Nagpur',['MH',['Shivaji',['Shambaji',['Chava',['VK']]]]]]]\n",
    "l[1][1][1][1][1][1][0]"
   ]
  },
  {
   "cell_type": "markdown",
   "id": "a2f3fefa-b5e7-407d-a4ae-e3a61b9400df",
   "metadata": {},
   "source": [
    "**List is a Mutable**"
   ]
  },
  {
   "cell_type": "code",
   "execution_count": 78,
   "id": "eedca0d6-1b08-41e6-adc9-a28f697e9749",
   "metadata": {},
   "outputs": [
    {
     "name": "stdout",
     "output_type": "stream",
     "text": [
      "[10, 3, 4]\n"
     ]
    }
   ],
   "source": [
    "my_list = [1, 2, 3]\n",
    "my_list[0] = 10      # Modify element\n",
    "my_list.append(4)    # Add element\n",
    "del my_list[1]       # Delete element\n",
    "\n",
    "print(my_list) "
   ]
  },
  {
   "cell_type": "markdown",
   "id": "1bdae328-dd00-4c0e-ae4d-507fb47b580d",
   "metadata": {},
   "source": [
    "**Concatenation**"
   ]
  },
  {
   "cell_type": "code",
   "execution_count": 79,
   "id": "c1bbf517-ca04-4cc4-8490-a0c722bd3c81",
   "metadata": {},
   "outputs": [
    {
     "name": "stdout",
     "output_type": "stream",
     "text": [
      "[10, 20, 30, 40, 50, 60, 'A', 'B']\n"
     ]
    }
   ],
   "source": [
    "l1=[10,20,30,40]\n",
    "l2=[50,60,\"A\",\"B\"]\n",
    "l3=l1+l2\n",
    "print(l3)\n"
   ]
  },
  {
   "cell_type": "code",
   "execution_count": 80,
   "id": "3f621480-655a-4050-a02c-1f89e606a574",
   "metadata": {},
   "outputs": [
    {
     "ename": "TypeError",
     "evalue": "unsupported operand type(s) for -: 'list' and 'list'",
     "output_type": "error",
     "traceback": [
      "\u001b[1;31m---------------------------------------------------------------------------\u001b[0m",
      "\u001b[1;31mTypeError\u001b[0m                                 Traceback (most recent call last)",
      "Cell \u001b[1;32mIn[80], line 3\u001b[0m\n\u001b[0;32m      1\u001b[0m l1\u001b[38;5;241m=\u001b[39m[\u001b[38;5;241m10\u001b[39m,\u001b[38;5;241m20\u001b[39m,\u001b[38;5;241m30\u001b[39m,\u001b[38;5;241m40\u001b[39m]\n\u001b[0;32m      2\u001b[0m l2\u001b[38;5;241m=\u001b[39m[\u001b[38;5;241m50\u001b[39m,\u001b[38;5;241m60\u001b[39m,\u001b[38;5;124m\"\u001b[39m\u001b[38;5;124mA\u001b[39m\u001b[38;5;124m\"\u001b[39m,\u001b[38;5;124m\"\u001b[39m\u001b[38;5;124mB\u001b[39m\u001b[38;5;124m\"\u001b[39m]\n\u001b[1;32m----> 3\u001b[0m \u001b[38;5;28mprint\u001b[39m(l1\u001b[38;5;241m-\u001b[39ml2)\n",
      "\u001b[1;31mTypeError\u001b[0m: unsupported operand type(s) for -: 'list' and 'list'"
     ]
    }
   ],
   "source": [
    "l1=[10,20,30,40]\n",
    "l2=[50,60,\"A\",\"B\"]\n",
    "print(l1-l2)"
   ]
  },
  {
   "cell_type": "code",
   "execution_count": null,
   "id": "281e2c40-e0be-4a9b-9e98-eed67248cd8d",
   "metadata": {},
   "outputs": [],
   "source": [
    "l1=[10,20,30,40]\n",
    "print(l1*2)"
   ]
  },
  {
   "cell_type": "code",
   "execution_count": null,
   "id": "30da22c7-7cbc-46de-919a-858f820cdacb",
   "metadata": {},
   "outputs": [],
   "source": [
    "l1=[10,20,30,40]\n",
    "l2=[50,60,\"A\",\"B\"]\n",
    "print(l1/l2)"
   ]
  },
  {
   "cell_type": "code",
   "execution_count": null,
   "id": "277894a0-42c7-4372-8d95-565be28124b7",
   "metadata": {},
   "outputs": [],
   "source": [
    "# -15 -14 -13-12-11 10 \n",
    "l=[10, 20,30,40,1, 2,3,4,'a','p','p','l','e',True,False]\n",
    "#  0   1  2  3  4   5 6 7  8   9   10  11  12  13  14\n",
    "\n",
    "l[2:12:12],l[2:12:-2],l[2:-12:2],l[-2:-12:-2],l[2:-12:-2]"
   ]
  },
  {
   "cell_type": "markdown",
   "id": "8946af96-48ae-4400-9dbc-d092d0c08af3",
   "metadata": {},
   "source": [
    "**Methods**"
   ]
  },
  {
   "cell_type": "code",
   "execution_count": null,
   "id": "c4fe1bb1-496d-4d14-b8ea-96553968cb2b",
   "metadata": {},
   "outputs": [],
   "source": [
    "dir([])"
   ]
  },
  {
   "cell_type": "markdown",
   "id": "d9695440-0fdb-4f6c-98a3-120ba372a0a2",
   "metadata": {},
   "source": [
    "**clear() and copy()**"
   ]
  },
  {
   "cell_type": "code",
   "execution_count": null,
   "id": "ade4c32e-c725-49a2-8562-7f392db51176",
   "metadata": {},
   "outputs": [],
   "source": [
    "l1=[1,2,3,4,5,6,7,8]\n",
    "l1.clear()\n",
    "print(l1)"
   ]
  },
  {
   "cell_type": "code",
   "execution_count": null,
   "id": "2e0729cd-a6dd-42f1-bda8-00aa0fe11e82",
   "metadata": {},
   "outputs": [],
   "source": [
    "l1=[10,20,30,40]\n",
    "l2=l1.copy()\n",
    "l1.clear()\n",
    "print(l2,l1)"
   ]
  },
  {
   "cell_type": "markdown",
   "id": "13b406bb-1b5a-48d6-af53-9037942d1a80",
   "metadata": {},
   "source": [
    "**count()**"
   ]
  },
  {
   "cell_type": "code",
   "execution_count": null,
   "id": "641db550-8e3f-4d81-916e-4d80fc9b58ce",
   "metadata": {},
   "outputs": [],
   "source": [
    "l1=[10, 20,30,40,1, 2,3,4,'a','p','p','l','e',True,False]\n",
    "l1.count(10)"
   ]
  },
  {
   "cell_type": "markdown",
   "id": "3defd3ba-333a-4233-966b-d55cab9ef795",
   "metadata": {},
   "source": [
    "**index**"
   ]
  },
  {
   "cell_type": "code",
   "execution_count": null,
   "id": "3ae1bc2b-d1e5-4a77-b8ac-387eb45200bf",
   "metadata": {},
   "outputs": [],
   "source": [
    "l=[10, 20,30,40,1, 2,3,4,'a','p','p','l','e',1,1,2,1]\n",
    "i1=l.index(1)\n",
    "i2=l.index(1,i1+1)\n",
    "i3=l.index(1,i2+1)\n",
    "i4=l.index(1,i3+1)\n",
    "i1,i2,i3,i4\n"
   ]
  },
  {
   "cell_type": "markdown",
   "id": "d605ae2a-b4af-4fcb-ae6c-2ab427b5ee7e",
   "metadata": {},
   "source": [
    "**len()**"
   ]
  },
  {
   "cell_type": "code",
   "execution_count": null,
   "id": "7b7d393e-faf7-4889-b72f-c7e9d43673c0",
   "metadata": {},
   "outputs": [],
   "source": [
    "l1=[1,4,5,6,7,9]\n",
    "len(l1)"
   ]
  },
  {
   "cell_type": "markdown",
   "id": "5382f339-5c46-46ea-8f51-0bd914edc7ba",
   "metadata": {},
   "source": [
    "**pop() and remove()**"
   ]
  },
  {
   "cell_type": "markdown",
   "id": "9e9880f1-21b5-4af4-98f7-cac123a5d3b9",
   "metadata": {},
   "source": [
    "| Feature              | `pop()`                                     | `remove()`                             |\n",
    "| -------------------- | ------------------------------------------- | -------------------------------------- |\n",
    "| **What it removes**  | Removes element **by index**                | Removes element **by value**           |\n",
    "| **Return value**     | ✅ Yes, returns the removed element         | No, returns nothing                    |\n",
    "| **Default behavior** | Removes the **last item** if no index given | No default, you **must specify value** |\n",
    "| **Error raised**     | `IndexError` if index is out of range       | `ValueError` if value not found        |\n",
    "| **Use case**         | When you know the **position**              | When you know the **value**            |\n"
   ]
  },
  {
   "cell_type": "code",
   "execution_count": null,
   "id": "68a8e1ba-7f27-4956-b7bc-f5726a75ecec",
   "metadata": {},
   "outputs": [],
   "source": [
    "l=[1,5,6,7,8,9]\n",
    "l.pop()\n",
    "l"
   ]
  },
  {
   "cell_type": "code",
   "execution_count": null,
   "id": "80d5f208-4180-46d6-af18-be889fe0505e",
   "metadata": {},
   "outputs": [],
   "source": [
    "l=[1,5,6,7,8,9]\n",
    "l.pop(2)\n",
    "l"
   ]
  },
  {
   "cell_type": "code",
   "execution_count": null,
   "id": "a03e2c37-ea84-40e6-a2dd-eecfdfea5ddf",
   "metadata": {},
   "outputs": [],
   "source": [
    "l=[\"apple\",\"banana\",\"cherry\",\"cherry\",\"a\",\"b\",10,20,30]\n",
    "i1=l.index(\"cherry\")\n",
    "i2=l.index(\"cherry\",i1+1)\n",
    "l.pop(i2)\n",
    "l"
   ]
  },
  {
   "cell_type": "code",
   "execution_count": null,
   "id": "b3dd7cb0-4efa-4b03-b75e-ab154e790da1",
   "metadata": {},
   "outputs": [],
   "source": [
    "l=[1,5,6,7,8,9]\n",
    "l.remove(1)\n",
    "l"
   ]
  },
  {
   "cell_type": "code",
   "execution_count": null,
   "id": "63b8e091-721e-457d-991d-2455adcfff2b",
   "metadata": {},
   "outputs": [],
   "source": [
    "s='apple'\n",
    "print(s.find('z'))\n",
    "print(s.count('z'))\n",
    "print(s.replace('z','Z'))\n",
    "print(s.index('z'))"
   ]
  },
  {
   "cell_type": "markdown",
   "id": "02a8e117-a8da-4daa-b747-9a6cb9e8110d",
   "metadata": {},
   "source": [
    "**append() , extend() , concat()**"
   ]
  },
  {
   "cell_type": "code",
   "execution_count": null,
   "id": "48278f5a-858f-46fd-83c1-3bb19cff9e9b",
   "metadata": {},
   "outputs": [],
   "source": [
    "l1=[1,3,2,4,5,6]\n",
    "l1.append(6)\n",
    "l1"
   ]
  },
  {
   "cell_type": "code",
   "execution_count": null,
   "id": "f44892b3-14d8-4746-8cb8-d07a1b12cf69",
   "metadata": {},
   "outputs": [],
   "source": [
    "l1=[1,3,2,4,5,6]\n",
    "l1.append([10,20,30])\n",
    "l1"
   ]
  },
  {
   "cell_type": "code",
   "execution_count": 82,
   "id": "93a24e65-f327-4a2b-a44c-ac3fc1363122",
   "metadata": {},
   "outputs": [
    {
     "name": "stdout",
     "output_type": "stream",
     "text": [
      "[10, 20, 30, 'A', 'B', 'C']\n",
      "['A', 'B', 'C']\n"
     ]
    },
    {
     "data": {
      "text/plain": [
       "[10, 20, 30, 'A', 'B', 'C', 'A', 'B', 'C']"
      ]
     },
     "execution_count": 82,
     "metadata": {},
     "output_type": "execute_result"
    }
   ],
   "source": [
    "l1=[10,20,30]\n",
    "l2=['A','B','C']\n",
    "l1.extend(l2)\n",
    "print(l1)\n",
    "print(l2)\n",
    "l1+l2 #not saved"
   ]
  },
  {
   "cell_type": "code",
   "execution_count": 81,
   "id": "a53fa054-54e9-4349-9d8b-44d7265d7961",
   "metadata": {},
   "outputs": [
    {
     "name": "stdout",
     "output_type": "stream",
     "text": [
      "[10, 20, 30]\n",
      "['A', 'B', 'C', 10, 20, 30]\n"
     ]
    },
    {
     "data": {
      "text/plain": [
       "[10, 20, 30, 'A', 'B', 'C', 10, 20, 30]"
      ]
     },
     "execution_count": 81,
     "metadata": {},
     "output_type": "execute_result"
    }
   ],
   "source": [
    "l1=[10,20,30]\n",
    "l2=['A','B','C']\n",
    "l2.extend(l1)\n",
    "print(l1)\n",
    "print(l2)\n"
   ]
  },
  {
   "cell_type": "code",
   "execution_count": null,
   "id": "8f3e9d00-96b9-423f-9f5f-fb01f86a4eaf",
   "metadata": {},
   "outputs": [],
   "source": []
  }
 ],
 "metadata": {
  "kernelspec": {
   "display_name": "Python [conda env:base] *",
   "language": "python",
   "name": "conda-base-py"
  },
  "language_info": {
   "codemirror_mode": {
    "name": "ipython",
    "version": 3
   },
   "file_extension": ".py",
   "mimetype": "text/x-python",
   "name": "python",
   "nbconvert_exporter": "python",
   "pygments_lexer": "ipython3",
   "version": "3.13.5"
  }
 },
 "nbformat": 4,
 "nbformat_minor": 5
}
