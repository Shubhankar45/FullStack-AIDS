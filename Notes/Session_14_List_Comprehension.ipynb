{
 "cells": [
  {
   "cell_type": "markdown",
   "id": "4e568b15-7aef-447b-bb87-25ed2fe71565",
   "metadata": {},
   "source": [
    "**List_Comprehension**"
   ]
  },
  {
   "cell_type": "markdown",
   "id": "023114ea-6763-4d2a-b07e-544ffb8ee39c",
   "metadata": {},
   "source": [
    "- Writing list operation in a single line is called as List Comprehension\n",
    "- Generally code process time will increase when we use for and if\n",
    "- List comprehension will reduce the processing time"
   ]
  },
  {
   "cell_type": "markdown",
   "id": "6b5e23fe-262f-4184-80ef-4e5516049b0a",
   "metadata": {},
   "source": [
    "**Case 1:List with for loop**"
   ]
  },
  {
   "cell_type": "code",
   "execution_count": null,
   "id": "1e67bf7c-9fb3-4747-9776-8545cbafe049",
   "metadata": {},
   "outputs": [],
   "source": [
    "#[<output><for loop>]"
   ]
  },
  {
   "cell_type": "code",
   "execution_count": null,
   "id": "71ccd1d9-94b4-46f6-8058-cd953c07afde",
   "metadata": {},
   "outputs": [],
   "source": [
    "#append 1 to 10 number in a list"
   ]
  },
  {
   "cell_type": "code",
   "execution_count": 2,
   "id": "2231e708-9347-4568-8c6a-945881ebfefc",
   "metadata": {},
   "outputs": [
    {
     "name": "stdout",
     "output_type": "stream",
     "text": [
      "[1, 2, 3, 4, 5, 6, 7, 8, 9, 10]\n"
     ]
    }
   ],
   "source": [
    "l=[]\n",
    "for i in range(1,11):\n",
    "    l.append(i)\n",
    "print(l)"
   ]
  },
  {
   "cell_type": "code",
   "execution_count": 3,
   "id": "0d3b1d34-e7f0-4a17-9563-922c913d9904",
   "metadata": {},
   "outputs": [
    {
     "name": "stdout",
     "output_type": "stream",
     "text": [
      "[1, 2, 3, 4, 5, 6, 7, 8, 9, 10]\n"
     ]
    }
   ],
   "source": [
    "l=[i for i in range(1,11)]\n",
    "print(l)"
   ]
  },
  {
   "cell_type": "code",
   "execution_count": null,
   "id": "ec501284-b931-4937-9090-0ea31077c366",
   "metadata": {},
   "outputs": [],
   "source": [
    "# Q1) input=['hyd','bengaluru','mumbai','chennai']\n",
    "#     output=['Hyd','Bengaluru','Mumbai','Chennai']\n",
    "\n",
    "# Q2) input=['hyd','bengaluru','mumbai','chennai']\n",
    "#     output=['HYD','BENGALURU','MUMBAI','CHENNAI']"
   ]
  },
  {
   "cell_type": "code",
   "execution_count": 7,
   "id": "bdfad447-04f4-4b7c-a1f5-2e09ee721343",
   "metadata": {},
   "outputs": [
    {
     "name": "stdout",
     "output_type": "stream",
     "text": [
      "['Hyd', 'Bengaluru', 'Mumbai', 'Chennai']\n"
     ]
    }
   ],
   "source": [
    "Input=['hyd','bengaluru','mumbai','chennai']\n",
    "output=[i.title() for i in Input]\n",
    "print(output)"
   ]
  },
  {
   "cell_type": "code",
   "execution_count": 8,
   "id": "cc2d942c-a96c-4cb3-a87c-4818cca03111",
   "metadata": {},
   "outputs": [
    {
     "name": "stdout",
     "output_type": "stream",
     "text": [
      "['HYD', 'BENGALURU', 'MUMBAI', 'CHENNAI']\n"
     ]
    }
   ],
   "source": [
    "Input=['hyd','bengaluru','mumbai','chennai']\n",
    "output=[i.upper() for i in Input]\n",
    "print(output)"
   ]
  },
  {
   "cell_type": "markdown",
   "id": "43dc0855-fcac-4027-9cf1-577fad3be0b5",
   "metadata": {},
   "source": [
    "**Case 2:for-if condition**"
   ]
  },
  {
   "cell_type": "code",
   "execution_count": null,
   "id": "09e21b47-a2ab-4181-bcf3-879b6e6cfacf",
   "metadata": {},
   "outputs": [],
   "source": [
    "#[<output> <for loop> <if condition>]"
   ]
  },
  {
   "cell_type": "code",
   "execution_count": 12,
   "id": "d8653f53-af41-4507-b8d5-388df2bd739c",
   "metadata": {},
   "outputs": [
    {
     "name": "stdout",
     "output_type": "stream",
     "text": [
      "[82, 26, 26]\n"
     ]
    }
   ],
   "source": [
    "import random \n",
    "Input=[random.randint(1,100) for i in range(5)]\n",
    "even_list=[]\n",
    "for i in Input:\n",
    "    if i%2==0:\n",
    "        even_list.append(i)\n",
    "print(even_list)      "
   ]
  },
  {
   "cell_type": "code",
   "execution_count": 14,
   "id": "f802fe5f-cac8-4e43-9ad6-0ff3bfe05bb2",
   "metadata": {},
   "outputs": [
    {
     "data": {
      "text/plain": [
       "([4, 88, 44], [37, 37])"
      ]
     },
     "execution_count": 14,
     "metadata": {},
     "output_type": "execute_result"
    }
   ],
   "source": [
    "import random \n",
    "Input=[random.randint(1,100) for i in range(5)]\n",
    "even_list=[i for i in Input if i%2==0]\n",
    "odd_list=[i for i in Input if i%2!=0]\n",
    "even_list,odd_list"
   ]
  },
  {
   "cell_type": "code",
   "execution_count": null,
   "id": "23173b9f-c236-41d9-b16d-5b2cdbddce2d",
   "metadata": {},
   "outputs": [],
   "source": [
    "#Q3)input=['hyd','bengaluru','mum#bai','chen#nai']\n",
    "#     output=['mum#bai','chen#nai']\n",
    "\n",
    "# Q4) input=['hyd','bengaluru','mum#bai','chen#nai']\n",
    "#     output=['hyd','bengaluru']"
   ]
  },
  {
   "cell_type": "code",
   "execution_count": 16,
   "id": "76775568-f075-4b2d-ab42-6f7f669f650d",
   "metadata": {},
   "outputs": [
    {
     "data": {
      "text/plain": [
       "['mum#bai', 'chen#nai']"
      ]
     },
     "execution_count": 16,
     "metadata": {},
     "output_type": "execute_result"
    }
   ],
   "source": [
    "Input=['hyd','bengaluru','mum#bai','chen#nai']\n",
    "output=[i for i in Input if '#' in i]\n",
    "output"
   ]
  },
  {
   "cell_type": "code",
   "execution_count": 17,
   "id": "95bc213e-98be-407c-b3a7-de90803684c1",
   "metadata": {},
   "outputs": [
    {
     "data": {
      "text/plain": [
       "['hyd', 'bengaluru']"
      ]
     },
     "execution_count": 17,
     "metadata": {},
     "output_type": "execute_result"
    }
   ],
   "source": [
    "Input=['hyd','bengaluru','mum#bai','chen#nai']\n",
    "output=[i for i in Input if '#' not in i]\n",
    "output"
   ]
  },
  {
   "cell_type": "markdown",
   "id": "daf2629e-66d4-4d46-86a6-5a0b7bd3c21c",
   "metadata": {},
   "source": [
    "**Case 3:for-if-else**"
   ]
  },
  {
   "cell_type": "code",
   "execution_count": null,
   "id": "a872c9f0-5002-4780-9537-739e7bbe177c",
   "metadata": {},
   "outputs": [],
   "source": [
    "#[<output if> <if condition> else <else output> <for loop> <>]"
   ]
  },
  {
   "cell_type": "code",
   "execution_count": 1,
   "id": "a77a23c7-cdc3-4860-ba89-7e5ba55c4c99",
   "metadata": {},
   "outputs": [
    {
     "data": {
      "text/plain": [
       "['30:even',\n",
       " '32:even',\n",
       " '3:odd',\n",
       " '75:odd',\n",
       " '69:odd',\n",
       " '38:even',\n",
       " '51:odd',\n",
       " '11:odd',\n",
       " '8:even',\n",
       " '19:odd',\n",
       " '73:odd',\n",
       " '65:odd',\n",
       " '22:even',\n",
       " '7:odd',\n",
       " '12:even',\n",
       " '60:even',\n",
       " '90:even',\n",
       " '36:even',\n",
       " '79:odd',\n",
       " '52:even',\n",
       " '10:even',\n",
       " '22:even',\n",
       " '66:even',\n",
       " '83:odd',\n",
       " '100:even',\n",
       " '31:odd',\n",
       " '56:even',\n",
       " '57:odd',\n",
       " '33:odd',\n",
       " '38:even',\n",
       " '13:odd',\n",
       " '95:odd',\n",
       " '26:even',\n",
       " '32:even',\n",
       " '7:odd',\n",
       " '80:even',\n",
       " '81:odd',\n",
       " '92:even',\n",
       " '62:even',\n",
       " '13:odd',\n",
       " '76:even',\n",
       " '94:even',\n",
       " '63:odd',\n",
       " '31:odd',\n",
       " '70:even',\n",
       " '45:odd',\n",
       " '13:odd',\n",
       " '14:even',\n",
       " '79:odd',\n",
       " '82:even',\n",
       " '91:odd',\n",
       " '12:even',\n",
       " '63:odd',\n",
       " '66:even',\n",
       " '79:odd',\n",
       " '93:odd',\n",
       " '46:even',\n",
       " '45:odd',\n",
       " '95:odd',\n",
       " '28:even',\n",
       " '49:odd',\n",
       " '69:odd',\n",
       " '41:odd',\n",
       " '15:odd',\n",
       " '6:even',\n",
       " '43:odd',\n",
       " '15:odd',\n",
       " '71:odd',\n",
       " '69:odd',\n",
       " '51:odd',\n",
       " '50:even',\n",
       " '72:even',\n",
       " '86:even',\n",
       " '31:odd',\n",
       " '35:odd',\n",
       " '9:odd',\n",
       " '66:even',\n",
       " '68:even',\n",
       " '69:odd',\n",
       " '45:odd',\n",
       " '96:even',\n",
       " '79:odd',\n",
       " '66:even',\n",
       " '61:odd',\n",
       " '16:even',\n",
       " '79:odd',\n",
       " '62:even',\n",
       " '7:odd',\n",
       " '57:odd',\n",
       " '75:odd',\n",
       " '69:odd',\n",
       " '57:odd',\n",
       " '33:odd',\n",
       " '6:even',\n",
       " '49:odd',\n",
       " '23:odd',\n",
       " '91:odd',\n",
       " '74:even',\n",
       " '43:odd']"
      ]
     },
     "execution_count": 1,
     "metadata": {},
     "output_type": "execute_result"
    }
   ],
   "source": [
    "import random\n",
    "num=[random.randint(1,100) for i in range(1,100)]\n",
    "output=[f\"{i}:even\" if i%2==0 else f\"{i}:odd\" for i in num ]\n",
    "output"
   ]
  },
  {
   "cell_type": "markdown",
   "id": "a2db867d-6be0-4e68-b359-e1404481598a",
   "metadata": {},
   "source": [
    "**Case 4:for-if-elif-else**"
   ]
  },
  {
   "cell_type": "code",
   "execution_count": null,
   "id": "4a1f6d6e-13fb-4feb-a023-89cf6c5b4673",
   "metadata": {},
   "outputs": [],
   "source": [
    "#[<if out> <if con> else <if out2> <if con> else <else out> <for loop>]"
   ]
  },
  {
   "cell_type": "markdown",
   "id": "7df988e8-1aad-4ee1-ab01-4260c95de6da",
   "metadata": {},
   "source": [
    "- There is no elif concept in list comprehension\n",
    "- elif will be write as if + else\n",
    "- elif condition, elif output: else, if cond, outout"
   ]
  },
  {
   "cell_type": "code",
   "execution_count": 4,
   "id": "5549b692-27f0-4a2f-b2a7-e7ce1a4e650d",
   "metadata": {},
   "outputs": [
    {
     "name": "stdout",
     "output_type": "stream",
     "text": [
      "50:B grade\n",
      "47:C grade\n",
      "89:A grade\n",
      "92:A grade\n",
      "66:B grade\n"
     ]
    }
   ],
   "source": [
    "Input=[50,47,89,92,66]\n",
    "for i in input1:\n",
    "    if i>=70:\n",
    "        print(f'{i}:A grade')\n",
    "    elif i>=50:\n",
    "        print(f'{i}:B grade')\n",
    "    else:\n",
    "        print(f'{i}:C grade')"
   ]
  },
  {
   "cell_type": "code",
   "execution_count": 6,
   "id": "894558d2-9993-44dd-a7cf-388d7e15c9f9",
   "metadata": {},
   "outputs": [
    {
     "data": {
      "text/plain": [
       "['50:B', '47:C', '89:A', '92:A', '66:B']"
      ]
     },
     "execution_count": 6,
     "metadata": {},
     "output_type": "execute_result"
    }
   ],
   "source": [
    "Input=[50,47,89,92,66]\n",
    "output=[f\"{i}:A\" if i>=70 else f\"{i}:B\" if i>=50 else f\"{i}:C\" for i in Input]\n",
    "output"
   ]
  },
  {
   "cell_type": "code",
   "execution_count": null,
   "id": "a082cd62-b858-4c9c-8878-fdc91bcf22f1",
   "metadata": {},
   "outputs": [],
   "source": []
  }
 ],
 "metadata": {
  "kernelspec": {
   "display_name": "Python [conda env:base] *",
   "language": "python",
   "name": "conda-base-py"
  },
  "language_info": {
   "codemirror_mode": {
    "name": "ipython",
    "version": 3
   },
   "file_extension": ".py",
   "mimetype": "text/x-python",
   "name": "python",
   "nbconvert_exporter": "python",
   "pygments_lexer": "ipython3",
   "version": "3.13.5"
  }
 },
 "nbformat": 4,
 "nbformat_minor": 5
}
